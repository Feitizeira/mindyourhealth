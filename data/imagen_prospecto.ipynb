{
 "cells": [
  {
   "cell_type": "markdown",
   "id": "009c3d0c",
   "metadata": {},
   "source": [
    "## MOSTRAR LA FOTO DE LOS MEDICAMENTOS POR EL NÚMERO DE REGISTRO"
   ]
  },
  {
   "cell_type": "code",
   "execution_count": 1,
   "id": "dfa8dafd",
   "metadata": {},
   "outputs": [],
   "source": [
    "# import pandas as pd\n",
    "\n",
    "# # Replace 'file.xlsx' with the name and path of your Excel file\n",
    "# df_drugs = pd.read_excel('Medicamentos.xls')\n",
    "\n",
    "# # Prints the entire dataframe\n",
    "# df_drugs\n",
    "\n",
    "# # activo = input('Nombre del principio Activo: ')\n",
    "\n",
    "# # Filter the DataFrame based on the search word\n",
    "# # filtered_dfactivo = df_drugs[df_drugs.apply(lambda row: row.astype(str).str.contains(activo, case=False).any(), axis=1)]\n",
    "\n",
    "# # Display the filtered DataFrame\n",
    "# filtered_dfactivo\n",
    "\n",
    "# medicamento = input('Nombre del medicamento: ')\n",
    "\n",
    "# filtered_dfactivos2 = df_drugs[df_drugs[\"Medicamento\"].str.contains(medicamento, case=False)]\n",
    "# filtered_dfactivos3 = df_drugs[df_drugs[\"Principios Activos\"].str.contains(medicamento, case=False)]\n",
    "\n",
    "\n",
    "# dfs = pd.concat([filtered_dfactivos2 , filtered_dfactivos3 ])\n",
    "\n",
    "# detalles = dfs[\"Nº Registro\"]\n",
    "# detalles = detalles.reset_index(drop = True)\n",
    "\n",
    "# from IPython.display import display, Image\n",
    "\n",
    "# lista_fotos = list()\n",
    "\n",
    "# for i in range(len(detalles)):\n",
    "    \n",
    "#     foto_url = 'https://cima.aemps.es/cima/fotos/full/materialas/{}/{}_materialas.jpg'.format(detalles[i], detalles[i])\n",
    "#     lista_fotos.append(foto_url)\n",
    "#     display(Image(url=foto_url, width = 300))\n",
    "    \n",
    "# display(filtered_dfactivos2)"
   ]
  },
  {
   "cell_type": "code",
   "execution_count": 2,
   "id": "9b410ec4",
   "metadata": {},
   "outputs": [
    {
     "data": {
      "text/html": [
       "<div>\n",
       "<style scoped>\n",
       "    .dataframe tbody tr th:only-of-type {\n",
       "        vertical-align: middle;\n",
       "    }\n",
       "\n",
       "    .dataframe tbody tr th {\n",
       "        vertical-align: top;\n",
       "    }\n",
       "\n",
       "    .dataframe thead th {\n",
       "        text-align: right;\n",
       "    }\n",
       "</style>\n",
       "<table border=\"1\" class=\"dataframe\">\n",
       "  <thead>\n",
       "    <tr style=\"text-align: right;\">\n",
       "      <th></th>\n",
       "      <th>Nº Registro</th>\n",
       "      <th>Medicamento</th>\n",
       "      <th>Laboratorio</th>\n",
       "      <th>Fecha Aut.</th>\n",
       "      <th>Estado</th>\n",
       "      <th>Fecha Estado</th>\n",
       "      <th>Cód. ATC</th>\n",
       "      <th>Principios Activos</th>\n",
       "      <th>Nº P. Activos</th>\n",
       "      <th>¿Comercializado?</th>\n",
       "      <th>¿Triangulo Amarillo?</th>\n",
       "      <th>Observaciones</th>\n",
       "      <th>¿Sustituible?</th>\n",
       "      <th>¿Afecta conducción?</th>\n",
       "      <th>¿Problemas de suministro?</th>\n",
       "    </tr>\n",
       "  </thead>\n",
       "  <tbody>\n",
       "    <tr>\n",
       "      <th>0</th>\n",
       "      <td>40537</td>\n",
       "      <td>INACID 25 mg CAPSULAS DURAS</td>\n",
       "      <td>H.A.C. Pharma</td>\n",
       "      <td>01/03/1965</td>\n",
       "      <td>Autorizado</td>\n",
       "      <td>01/03/1965</td>\n",
       "      <td>M01AB01</td>\n",
       "      <td>INDOMETACINA</td>\n",
       "      <td>1</td>\n",
       "      <td>SI</td>\n",
       "      <td>NO</td>\n",
       "      <td>Medicamento Sujeto A Prescripción Médica</td>\n",
       "      <td>NaN</td>\n",
       "      <td>NO</td>\n",
       "      <td>NO</td>\n",
       "    </tr>\n",
       "    <tr>\n",
       "      <th>1</th>\n",
       "      <td>38334</td>\n",
       "      <td>ARTANE 2 MG COMPRIMIDOS</td>\n",
       "      <td>Teofarma, S.R.L.</td>\n",
       "      <td>01/11/1962</td>\n",
       "      <td>Autorizado</td>\n",
       "      <td>01/11/1962</td>\n",
       "      <td>N04AA01</td>\n",
       "      <td>TRIHEXIFENIDIL HIDROCLORURO</td>\n",
       "      <td>1</td>\n",
       "      <td>SI</td>\n",
       "      <td>NO</td>\n",
       "      <td>Medicamento Sujeto A Prescripción Médica. Trat...</td>\n",
       "      <td>NaN</td>\n",
       "      <td>SI</td>\n",
       "      <td>NO</td>\n",
       "    </tr>\n",
       "    <tr>\n",
       "      <th>2</th>\n",
       "      <td>44099</td>\n",
       "      <td>OCTOCAINE 20 MG/ML + 0,01 MG/ML SOLUCIÓN INYEC...</td>\n",
       "      <td>Laboratorios Clarben S.A.</td>\n",
       "      <td>01/03/1967</td>\n",
       "      <td>Autorizado</td>\n",
       "      <td>01/03/1967</td>\n",
       "      <td>N01BB52</td>\n",
       "      <td>LIDOCAINA HIDROCLORURO, EPINEFRINA BITARTRATO</td>\n",
       "      <td>2</td>\n",
       "      <td>SI</td>\n",
       "      <td>NO</td>\n",
       "      <td>Medicamento Sujeto A Prescripción Médica</td>\n",
       "      <td>NaN</td>\n",
       "      <td>SI</td>\n",
       "      <td>NO</td>\n",
       "    </tr>\n",
       "    <tr>\n",
       "      <th>3</th>\n",
       "      <td>44396</td>\n",
       "      <td>FARINGESIC 5 mg/5 mg COMPRIMIDOS PARA CHUPAR S...</td>\n",
       "      <td>Faes Farma S.A.</td>\n",
       "      <td>01/05/1967</td>\n",
       "      <td>Autorizado</td>\n",
       "      <td>01/05/1967</td>\n",
       "      <td>R02AA20</td>\n",
       "      <td>CLORHEXIDINA HIDROCLORURO, BENZOCAINA</td>\n",
       "      <td>2</td>\n",
       "      <td>SI</td>\n",
       "      <td>NO</td>\n",
       "      <td>Sin Receta</td>\n",
       "      <td>NaN</td>\n",
       "      <td>NO</td>\n",
       "      <td>NO</td>\n",
       "    </tr>\n",
       "    <tr>\n",
       "      <th>4</th>\n",
       "      <td>40886</td>\n",
       "      <td>ALERJUVENTUS JARABE</td>\n",
       "      <td>Laboratorios Ern, S.A.</td>\n",
       "      <td>01/05/1965</td>\n",
       "      <td>Autorizado</td>\n",
       "      <td>01/05/1965</td>\n",
       "      <td>H02BX93</td>\n",
       "      <td>CLORFENAMINA MALEATO, PREDNISOLONA SULFOBENZOA...</td>\n",
       "      <td>2</td>\n",
       "      <td>NO</td>\n",
       "      <td>NO</td>\n",
       "      <td>Medicamento Sujeto A Prescripción Médica</td>\n",
       "      <td>NaN</td>\n",
       "      <td>NO</td>\n",
       "      <td>NO</td>\n",
       "    </tr>\n",
       "    <tr>\n",
       "      <th>...</th>\n",
       "      <td>...</td>\n",
       "      <td>...</td>\n",
       "      <td>...</td>\n",
       "      <td>...</td>\n",
       "      <td>...</td>\n",
       "      <td>...</td>\n",
       "      <td>...</td>\n",
       "      <td>...</td>\n",
       "      <td>...</td>\n",
       "      <td>...</td>\n",
       "      <td>...</td>\n",
       "      <td>...</td>\n",
       "      <td>...</td>\n",
       "      <td>...</td>\n",
       "      <td>...</td>\n",
       "    </tr>\n",
       "    <tr>\n",
       "      <th>24324</th>\n",
       "      <td>88260</td>\n",
       "      <td>PIRFENIDONA ACCORD 267 MG COMPRIMIDOS RECUBIER...</td>\n",
       "      <td>Accord Healthcare S.L.</td>\n",
       "      <td>03/11/2022</td>\n",
       "      <td>Autorizado</td>\n",
       "      <td>04/11/2022</td>\n",
       "      <td>L04AX05</td>\n",
       "      <td>PIRFENIDONA</td>\n",
       "      <td>1</td>\n",
       "      <td>NO</td>\n",
       "      <td>NO</td>\n",
       "      <td>Uso Hospitalario</td>\n",
       "      <td>NaN</td>\n",
       "      <td>SI</td>\n",
       "      <td>NO</td>\n",
       "    </tr>\n",
       "    <tr>\n",
       "      <th>24325</th>\n",
       "      <td>88261</td>\n",
       "      <td>PIRFENIDONA ACCORD 801 MG COMPRIMIDOS RECUBIER...</td>\n",
       "      <td>Accord Healthcare S.L.</td>\n",
       "      <td>03/11/2022</td>\n",
       "      <td>Autorizado</td>\n",
       "      <td>04/11/2022</td>\n",
       "      <td>L04AX05</td>\n",
       "      <td>PIRFENIDONA</td>\n",
       "      <td>1</td>\n",
       "      <td>NO</td>\n",
       "      <td>NO</td>\n",
       "      <td>Uso Hospitalario</td>\n",
       "      <td>NaN</td>\n",
       "      <td>SI</td>\n",
       "      <td>NO</td>\n",
       "    </tr>\n",
       "    <tr>\n",
       "      <th>24326</th>\n",
       "      <td>88250</td>\n",
       "      <td>P-TOLUENDIAMINA SMARTPRACTICE 10 MG/G (1%) POMADA</td>\n",
       "      <td>Smartpractice Europe Gmbh</td>\n",
       "      <td>03/11/2022</td>\n",
       "      <td>Autorizado</td>\n",
       "      <td>04/11/2022</td>\n",
       "      <td>V04CL</td>\n",
       "      <td>2,5-DIAMINOTOLUENO</td>\n",
       "      <td>1</td>\n",
       "      <td>NO</td>\n",
       "      <td>NO</td>\n",
       "      <td>Uso Hospitalario</td>\n",
       "      <td>NaN</td>\n",
       "      <td>NO</td>\n",
       "      <td>NO</td>\n",
       "    </tr>\n",
       "    <tr>\n",
       "      <th>24327</th>\n",
       "      <td>88689</td>\n",
       "      <td>SOLIFENACINA/TAMSULOSINA ARISTO 6MG/0,4 MG COM...</td>\n",
       "      <td>Aristo Pharma Gmbh</td>\n",
       "      <td>24/02/2023</td>\n",
       "      <td>Autorizado</td>\n",
       "      <td>25/02/2023</td>\n",
       "      <td>G04CA53</td>\n",
       "      <td>TAMSULOSINA HIDROCLORURO, SOLIFENACINA SUCCINATO</td>\n",
       "      <td>2</td>\n",
       "      <td>NO</td>\n",
       "      <td>NO</td>\n",
       "      <td>Medicamento Sujeto A Prescripción Médica</td>\n",
       "      <td>NaN</td>\n",
       "      <td>SI</td>\n",
       "      <td>NO</td>\n",
       "    </tr>\n",
       "    <tr>\n",
       "      <th>24328</th>\n",
       "      <td>88253</td>\n",
       "      <td>FUMARATO DE DIMETILO SANDOZ 240 MG CAPSULAS DU...</td>\n",
       "      <td>Sandoz Farmaceutica, S.A.</td>\n",
       "      <td>03/11/2022</td>\n",
       "      <td>Autorizado</td>\n",
       "      <td>04/11/2022</td>\n",
       "      <td>L04AX07</td>\n",
       "      <td>FUMARATO DE DIMETILO</td>\n",
       "      <td>1</td>\n",
       "      <td>NO</td>\n",
       "      <td>NO</td>\n",
       "      <td>Uso Hospitalario</td>\n",
       "      <td>NaN</td>\n",
       "      <td>NO</td>\n",
       "      <td>NO</td>\n",
       "    </tr>\n",
       "  </tbody>\n",
       "</table>\n",
       "<p>24329 rows × 15 columns</p>\n",
       "</div>"
      ],
      "text/plain": [
       "      Nº Registro                                        Medicamento  \\\n",
       "0           40537                        INACID 25 mg CAPSULAS DURAS   \n",
       "1           38334                            ARTANE 2 MG COMPRIMIDOS   \n",
       "2           44099  OCTOCAINE 20 MG/ML + 0,01 MG/ML SOLUCIÓN INYEC...   \n",
       "3           44396  FARINGESIC 5 mg/5 mg COMPRIMIDOS PARA CHUPAR S...   \n",
       "4           40886                                ALERJUVENTUS JARABE   \n",
       "...           ...                                                ...   \n",
       "24324       88260  PIRFENIDONA ACCORD 267 MG COMPRIMIDOS RECUBIER...   \n",
       "24325       88261  PIRFENIDONA ACCORD 801 MG COMPRIMIDOS RECUBIER...   \n",
       "24326       88250  P-TOLUENDIAMINA SMARTPRACTICE 10 MG/G (1%) POMADA   \n",
       "24327       88689  SOLIFENACINA/TAMSULOSINA ARISTO 6MG/0,4 MG COM...   \n",
       "24328       88253  FUMARATO DE DIMETILO SANDOZ 240 MG CAPSULAS DU...   \n",
       "\n",
       "                     Laboratorio  Fecha Aut.      Estado Fecha Estado  \\\n",
       "0                  H.A.C. Pharma  01/03/1965  Autorizado   01/03/1965   \n",
       "1               Teofarma, S.R.L.  01/11/1962  Autorizado   01/11/1962   \n",
       "2      Laboratorios Clarben S.A.  01/03/1967  Autorizado   01/03/1967   \n",
       "3                Faes Farma S.A.  01/05/1967  Autorizado   01/05/1967   \n",
       "4         Laboratorios Ern, S.A.  01/05/1965  Autorizado   01/05/1965   \n",
       "...                          ...         ...         ...          ...   \n",
       "24324     Accord Healthcare S.L.  03/11/2022  Autorizado   04/11/2022   \n",
       "24325     Accord Healthcare S.L.  03/11/2022  Autorizado   04/11/2022   \n",
       "24326  Smartpractice Europe Gmbh  03/11/2022  Autorizado   04/11/2022   \n",
       "24327         Aristo Pharma Gmbh  24/02/2023  Autorizado   25/02/2023   \n",
       "24328  Sandoz Farmaceutica, S.A.  03/11/2022  Autorizado   04/11/2022   \n",
       "\n",
       "      Cód. ATC                                 Principios Activos  \\\n",
       "0      M01AB01                                       INDOMETACINA   \n",
       "1      N04AA01                        TRIHEXIFENIDIL HIDROCLORURO   \n",
       "2      N01BB52      LIDOCAINA HIDROCLORURO, EPINEFRINA BITARTRATO   \n",
       "3      R02AA20              CLORHEXIDINA HIDROCLORURO, BENZOCAINA   \n",
       "4      H02BX93  CLORFENAMINA MALEATO, PREDNISOLONA SULFOBENZOA...   \n",
       "...        ...                                                ...   \n",
       "24324  L04AX05                                        PIRFENIDONA   \n",
       "24325  L04AX05                                        PIRFENIDONA   \n",
       "24326    V04CL                                 2,5-DIAMINOTOLUENO   \n",
       "24327  G04CA53   TAMSULOSINA HIDROCLORURO, SOLIFENACINA SUCCINATO   \n",
       "24328  L04AX07                               FUMARATO DE DIMETILO   \n",
       "\n",
       "       Nº P. Activos ¿Comercializado? ¿Triangulo Amarillo?  \\\n",
       "0                  1               SI                   NO   \n",
       "1                  1               SI                   NO   \n",
       "2                  2               SI                   NO   \n",
       "3                  2               SI                   NO   \n",
       "4                  2               NO                   NO   \n",
       "...              ...              ...                  ...   \n",
       "24324              1               NO                   NO   \n",
       "24325              1               NO                   NO   \n",
       "24326              1               NO                   NO   \n",
       "24327              2               NO                   NO   \n",
       "24328              1               NO                   NO   \n",
       "\n",
       "                                           Observaciones ¿Sustituible?  \\\n",
       "0               Medicamento Sujeto A Prescripción Médica           NaN   \n",
       "1      Medicamento Sujeto A Prescripción Médica. Trat...           NaN   \n",
       "2               Medicamento Sujeto A Prescripción Médica           NaN   \n",
       "3                                             Sin Receta           NaN   \n",
       "4               Medicamento Sujeto A Prescripción Médica           NaN   \n",
       "...                                                  ...           ...   \n",
       "24324                                   Uso Hospitalario           NaN   \n",
       "24325                                   Uso Hospitalario           NaN   \n",
       "24326                                   Uso Hospitalario           NaN   \n",
       "24327           Medicamento Sujeto A Prescripción Médica           NaN   \n",
       "24328                                   Uso Hospitalario           NaN   \n",
       "\n",
       "      ¿Afecta conducción? ¿Problemas de suministro?  \n",
       "0                      NO                        NO  \n",
       "1                      SI                        NO  \n",
       "2                      SI                        NO  \n",
       "3                      NO                        NO  \n",
       "4                      NO                        NO  \n",
       "...                   ...                       ...  \n",
       "24324                  SI                        NO  \n",
       "24325                  SI                        NO  \n",
       "24326                  NO                        NO  \n",
       "24327                  SI                        NO  \n",
       "24328                  NO                        NO  \n",
       "\n",
       "[24329 rows x 15 columns]"
      ]
     },
     "execution_count": 2,
     "metadata": {},
     "output_type": "execute_result"
    }
   ],
   "source": [
    "import pandas as pd\n",
    "\n",
    "# Replace 'file.xlsx' with the name and path of your Excel file\n",
    "df_drugs = pd.read_excel('Medicamentos.xls')\n",
    "\n",
    "# Prints the entire dataframe\n",
    "df_drugs"
   ]
  },
  {
   "cell_type": "code",
   "execution_count": 3,
   "id": "ef413b21",
   "metadata": {},
   "outputs": [],
   "source": [
    "# df_sintomas = pd.read_excel('finalmedicamentos por enfermedad vertical.xlsx')\n",
    "\n",
    "\n",
    "# # Prompt the user to enter a search word\n",
    "# search_word = input(\"Tipo de enfermedad: \")\n",
    "\n",
    "# # Filter the columns of the df_sintomas dataframe\n",
    "# filtered_columns = df_sintomas.columns[df_sintomas.columns.str.contains(search_word, case=False)]\n",
    "\n",
    "# # Filter the df dataframe based on the filtered_columns\n",
    "# filtered_df = df_sintomas[filtered_columns]\n",
    "# filtered_df"
   ]
  },
  {
   "cell_type": "code",
   "execution_count": 4,
   "id": "acd7be70",
   "metadata": {},
   "outputs": [
    {
     "name": "stdout",
     "output_type": "stream",
     "text": [
      "Nombre del medicamento: diazepam\n"
     ]
    }
   ],
   "source": [
    "medicamento = input('Nombre del medicamento: ')"
   ]
  },
  {
   "cell_type": "code",
   "execution_count": 5,
   "id": "f0f4b6c0",
   "metadata": {},
   "outputs": [
    {
     "data": {
      "text/html": [
       "<div>\n",
       "<style scoped>\n",
       "    .dataframe tbody tr th:only-of-type {\n",
       "        vertical-align: middle;\n",
       "    }\n",
       "\n",
       "    .dataframe tbody tr th {\n",
       "        vertical-align: top;\n",
       "    }\n",
       "\n",
       "    .dataframe thead th {\n",
       "        text-align: right;\n",
       "    }\n",
       "</style>\n",
       "<table border=\"1\" class=\"dataframe\">\n",
       "  <thead>\n",
       "    <tr style=\"text-align: right;\">\n",
       "      <th></th>\n",
       "      <th>Nº Registro</th>\n",
       "      <th>Medicamento</th>\n",
       "      <th>Laboratorio</th>\n",
       "      <th>Fecha Aut.</th>\n",
       "      <th>Estado</th>\n",
       "      <th>Fecha Estado</th>\n",
       "      <th>Cód. ATC</th>\n",
       "      <th>Principios Activos</th>\n",
       "      <th>Nº P. Activos</th>\n",
       "      <th>¿Comercializado?</th>\n",
       "      <th>¿Triangulo Amarillo?</th>\n",
       "      <th>Observaciones</th>\n",
       "      <th>¿Sustituible?</th>\n",
       "      <th>¿Afecta conducción?</th>\n",
       "      <th>¿Problemas de suministro?</th>\n",
       "    </tr>\n",
       "  </thead>\n",
       "  <tbody>\n",
       "    <tr>\n",
       "      <th>301</th>\n",
       "      <td>40960</td>\n",
       "      <td>DIAZEPAN LEO 5 mg COMPRIMIDOS</td>\n",
       "      <td>Teofarma, S.R.L.</td>\n",
       "      <td>01/05/1965</td>\n",
       "      <td>Autorizado</td>\n",
       "      <td>01/05/1965</td>\n",
       "      <td>N05BA01</td>\n",
       "      <td>DIAZEPAM</td>\n",
       "      <td>1</td>\n",
       "      <td>SI</td>\n",
       "      <td>NO</td>\n",
       "      <td>Medicamento Sujeto A Prescripción Médica. Psic...</td>\n",
       "      <td>NaN</td>\n",
       "      <td>SI</td>\n",
       "      <td>NO</td>\n",
       "    </tr>\n",
       "    <tr>\n",
       "      <th>573</th>\n",
       "      <td>46050</td>\n",
       "      <td>VINCOSEDAN</td>\n",
       "      <td>Laboratorios Asociados Nupel, S.L.</td>\n",
       "      <td>01/05/1968</td>\n",
       "      <td>Anulado</td>\n",
       "      <td>29/04/2021</td>\n",
       "      <td>N05BA51</td>\n",
       "      <td>PIRIDOXINA HIDROCLORURO, DIAZEPAM</td>\n",
       "      <td>2</td>\n",
       "      <td>NO</td>\n",
       "      <td>NO</td>\n",
       "      <td>Medicamento Sujeto A Prescripción Médica. Psic...</td>\n",
       "      <td>NaN</td>\n",
       "      <td>SI</td>\n",
       "      <td>NO</td>\n",
       "    </tr>\n",
       "    <tr>\n",
       "      <th>879</th>\n",
       "      <td>58000</td>\n",
       "      <td>STESOLID 10 mg solución rectal</td>\n",
       "      <td>Faes Farma S.A.</td>\n",
       "      <td>01/10/1989</td>\n",
       "      <td>Autorizado</td>\n",
       "      <td>01/10/1989</td>\n",
       "      <td>N05BA01</td>\n",
       "      <td>DIAZEPAM</td>\n",
       "      <td>1</td>\n",
       "      <td>SI</td>\n",
       "      <td>NO</td>\n",
       "      <td>Medicamento Sujeto A Prescripción Médica. Psic...</td>\n",
       "      <td>NaN</td>\n",
       "      <td>SI</td>\n",
       "      <td>NO</td>\n",
       "    </tr>\n",
       "    <tr>\n",
       "      <th>1072</th>\n",
       "      <td>53295</td>\n",
       "      <td>ANSIUM CAPSULAS DURAS</td>\n",
       "      <td>Neuraxpharm Spain, S.L.U.</td>\n",
       "      <td>01/09/1975</td>\n",
       "      <td>Autorizado</td>\n",
       "      <td>01/09/1975</td>\n",
       "      <td>N05BA51</td>\n",
       "      <td>SULPIRIDA, DIAZEPAM</td>\n",
       "      <td>2</td>\n",
       "      <td>SI</td>\n",
       "      <td>NO</td>\n",
       "      <td>Medicamento Sujeto A Prescripción Médica. Psic...</td>\n",
       "      <td>NaN</td>\n",
       "      <td>SI</td>\n",
       "      <td>NO</td>\n",
       "    </tr>\n",
       "    <tr>\n",
       "      <th>1200</th>\n",
       "      <td>46993</td>\n",
       "      <td>PACIUM 5 mg / 10 mg CAPSULAS</td>\n",
       "      <td>Biowise Pharmaceuticals, S.L.</td>\n",
       "      <td>01/12/1968</td>\n",
       "      <td>Anulado</td>\n",
       "      <td>07/05/2020</td>\n",
       "      <td>N05BA51</td>\n",
       "      <td>PIRIDOXINA HIDROCLORURO, DIAZEPAM</td>\n",
       "      <td>2</td>\n",
       "      <td>NO</td>\n",
       "      <td>NO</td>\n",
       "      <td>Medicamento Sujeto A Prescripción Médica. Psic...</td>\n",
       "      <td>NaN</td>\n",
       "      <td>SI</td>\n",
       "      <td>NO</td>\n",
       "    </tr>\n",
       "    <tr>\n",
       "      <th>2644</th>\n",
       "      <td>80697</td>\n",
       "      <td>DIAZEPAM STADA 10 MG COMPRIMIDOS EFG</td>\n",
       "      <td>Laboratorio Stada, S.L.</td>\n",
       "      <td>26/02/2016</td>\n",
       "      <td>Autorizado</td>\n",
       "      <td>26/02/2016</td>\n",
       "      <td>N05BA01</td>\n",
       "      <td>DIAZEPAM</td>\n",
       "      <td>1</td>\n",
       "      <td>SI</td>\n",
       "      <td>NO</td>\n",
       "      <td>Medicamento Sujeto A Prescripción Médica. Psic...</td>\n",
       "      <td>NaN</td>\n",
       "      <td>SI</td>\n",
       "      <td>NO</td>\n",
       "    </tr>\n",
       "    <tr>\n",
       "      <th>2676</th>\n",
       "      <td>80696</td>\n",
       "      <td>DIAZEPAM STADA 5 MG COMPRIMIDOS EFG</td>\n",
       "      <td>Laboratorio Stada, S.L.</td>\n",
       "      <td>26/02/2016</td>\n",
       "      <td>Autorizado</td>\n",
       "      <td>26/02/2016</td>\n",
       "      <td>N05BA01</td>\n",
       "      <td>DIAZEPAM</td>\n",
       "      <td>1</td>\n",
       "      <td>SI</td>\n",
       "      <td>NO</td>\n",
       "      <td>Medicamento Sujeto A Prescripción Médica. Psic...</td>\n",
       "      <td>NaN</td>\n",
       "      <td>SI</td>\n",
       "      <td>NO</td>\n",
       "    </tr>\n",
       "    <tr>\n",
       "      <th>2857</th>\n",
       "      <td>80702</td>\n",
       "      <td>DIAZEPAM QUALIGEN 5 MG COMPRIMIDOS EFG</td>\n",
       "      <td>Neuraxpharm Spain, S.L.U.</td>\n",
       "      <td>02/03/2016</td>\n",
       "      <td>Autorizado</td>\n",
       "      <td>02/03/2016</td>\n",
       "      <td>N05BA01</td>\n",
       "      <td>DIAZEPAM</td>\n",
       "      <td>1</td>\n",
       "      <td>SI</td>\n",
       "      <td>NO</td>\n",
       "      <td>Medicamento Sujeto A Prescripción Médica. Psic...</td>\n",
       "      <td>NaN</td>\n",
       "      <td>SI</td>\n",
       "      <td>NO</td>\n",
       "    </tr>\n",
       "    <tr>\n",
       "      <th>3181</th>\n",
       "      <td>39501</td>\n",
       "      <td>ANEUROL 5 mg/10 mg COMPRIMIDOS RECUBIERTOS</td>\n",
       "      <td>Lacer, S.A.</td>\n",
       "      <td>01/01/1964</td>\n",
       "      <td>Autorizado</td>\n",
       "      <td>01/01/1964</td>\n",
       "      <td>N05BA01</td>\n",
       "      <td>PIRIDOXINA HIDROCLORURO, DIAZEPAM</td>\n",
       "      <td>2</td>\n",
       "      <td>SI</td>\n",
       "      <td>NO</td>\n",
       "      <td>Medicamento Sujeto A Prescripción Médica. Psic...</td>\n",
       "      <td>NaN</td>\n",
       "      <td>SI</td>\n",
       "      <td>NO</td>\n",
       "    </tr>\n",
       "    <tr>\n",
       "      <th>5368</th>\n",
       "      <td>39692</td>\n",
       "      <td>DIAZEPAN PRODES 10 mg COMPRIMIDOS</td>\n",
       "      <td>Kern Pharma, S.L.</td>\n",
       "      <td>01/05/1964</td>\n",
       "      <td>Autorizado</td>\n",
       "      <td>01/05/1964</td>\n",
       "      <td>N05BA01</td>\n",
       "      <td>DIAZEPAM</td>\n",
       "      <td>1</td>\n",
       "      <td>SI</td>\n",
       "      <td>NO</td>\n",
       "      <td>Medicamento Sujeto A Prescripción Médica. Psic...</td>\n",
       "      <td>NaN</td>\n",
       "      <td>SI</td>\n",
       "      <td>NO</td>\n",
       "    </tr>\n",
       "    <tr>\n",
       "      <th>5375</th>\n",
       "      <td>42003</td>\n",
       "      <td>DIAZEPAN PRODES 2,5 mg COMPRIMIDOS</td>\n",
       "      <td>Kern Pharma, S.L.</td>\n",
       "      <td>01/10/1965</td>\n",
       "      <td>Autorizado</td>\n",
       "      <td>01/10/1965</td>\n",
       "      <td>N05BA01</td>\n",
       "      <td>DIAZEPAM</td>\n",
       "      <td>1</td>\n",
       "      <td>SI</td>\n",
       "      <td>NO</td>\n",
       "      <td>Medicamento Sujeto A Prescripción Médica. Psic...</td>\n",
       "      <td>NaN</td>\n",
       "      <td>SI</td>\n",
       "      <td>NO</td>\n",
       "    </tr>\n",
       "    <tr>\n",
       "      <th>5385</th>\n",
       "      <td>48242</td>\n",
       "      <td>DIAZEPAN PRODES 25 mg COMPRIMIDOS</td>\n",
       "      <td>Kern Pharma, S.L.</td>\n",
       "      <td>01/07/1969</td>\n",
       "      <td>Autorizado</td>\n",
       "      <td>01/07/1969</td>\n",
       "      <td>N05BA01</td>\n",
       "      <td>DIAZEPAM</td>\n",
       "      <td>1</td>\n",
       "      <td>SI</td>\n",
       "      <td>NO</td>\n",
       "      <td>Medicamento Sujeto A Prescripción Médica. Psic...</td>\n",
       "      <td>NaN</td>\n",
       "      <td>SI</td>\n",
       "      <td>NO</td>\n",
       "    </tr>\n",
       "    <tr>\n",
       "      <th>5386</th>\n",
       "      <td>39693</td>\n",
       "      <td>DIAZEPAN PRODES 5 mg COMPRIMIDOS</td>\n",
       "      <td>Kern Pharma, S.L.</td>\n",
       "      <td>01/05/1964</td>\n",
       "      <td>Autorizado</td>\n",
       "      <td>01/05/1964</td>\n",
       "      <td>N05BA01</td>\n",
       "      <td>DIAZEPAM</td>\n",
       "      <td>1</td>\n",
       "      <td>SI</td>\n",
       "      <td>NO</td>\n",
       "      <td>Medicamento Sujeto A Prescripción Médica. Psic...</td>\n",
       "      <td>NaN</td>\n",
       "      <td>SI</td>\n",
       "      <td>NO</td>\n",
       "    </tr>\n",
       "    <tr>\n",
       "      <th>5438</th>\n",
       "      <td>80699</td>\n",
       "      <td>DIAZEPAM CINFA 10 MG COMPRIMIDOS EFG</td>\n",
       "      <td>Laboratorios Cinfa, S.A.</td>\n",
       "      <td>26/02/2016</td>\n",
       "      <td>Autorizado</td>\n",
       "      <td>26/02/2016</td>\n",
       "      <td>N05BA01</td>\n",
       "      <td>DIAZEPAM</td>\n",
       "      <td>1</td>\n",
       "      <td>SI</td>\n",
       "      <td>NO</td>\n",
       "      <td>Medicamento Sujeto A Prescripción Médica. Psic...</td>\n",
       "      <td>NaN</td>\n",
       "      <td>SI</td>\n",
       "      <td>NO</td>\n",
       "    </tr>\n",
       "    <tr>\n",
       "      <th>5445</th>\n",
       "      <td>80703</td>\n",
       "      <td>DIAZEPAM QUALIGEN 10 MG COMPRIMIDOS EFG</td>\n",
       "      <td>Neuraxpharm Spain, S.L.U.</td>\n",
       "      <td>02/03/2016</td>\n",
       "      <td>Autorizado</td>\n",
       "      <td>02/03/2016</td>\n",
       "      <td>N05BA01</td>\n",
       "      <td>DIAZEPAM</td>\n",
       "      <td>1</td>\n",
       "      <td>SI</td>\n",
       "      <td>NO</td>\n",
       "      <td>Medicamento Sujeto A Prescripción Médica. Psic...</td>\n",
       "      <td>NaN</td>\n",
       "      <td>SI</td>\n",
       "      <td>NO</td>\n",
       "    </tr>\n",
       "    <tr>\n",
       "      <th>5450</th>\n",
       "      <td>40959</td>\n",
       "      <td>DIAZEPAN LEO 2 mg COMPRIMIDOS</td>\n",
       "      <td>Teofarma, S.R.L.</td>\n",
       "      <td>01/05/1965</td>\n",
       "      <td>Autorizado</td>\n",
       "      <td>01/05/1965</td>\n",
       "      <td>N05BA01</td>\n",
       "      <td>DIAZEPAM</td>\n",
       "      <td>1</td>\n",
       "      <td>SI</td>\n",
       "      <td>NO</td>\n",
       "      <td>Medicamento Sujeto A Prescripción Médica. Psic...</td>\n",
       "      <td>NaN</td>\n",
       "      <td>SI</td>\n",
       "      <td>NO</td>\n",
       "    </tr>\n",
       "    <tr>\n",
       "      <th>5451</th>\n",
       "      <td>51208</td>\n",
       "      <td>DIAZEPAM NORMON 5 mg COMPRIMIDOS</td>\n",
       "      <td>Laboratorios Normon, S.A.</td>\n",
       "      <td>01/05/1973</td>\n",
       "      <td>Autorizado</td>\n",
       "      <td>01/05/1973</td>\n",
       "      <td>N05BA01</td>\n",
       "      <td>DIAZEPAM</td>\n",
       "      <td>1</td>\n",
       "      <td>SI</td>\n",
       "      <td>NO</td>\n",
       "      <td>Medicamento Sujeto A Prescripción Médica. Psic...</td>\n",
       "      <td>NaN</td>\n",
       "      <td>SI</td>\n",
       "      <td>NO</td>\n",
       "    </tr>\n",
       "    <tr>\n",
       "      <th>5683</th>\n",
       "      <td>41598</td>\n",
       "      <td>DIAZEPAN PRODES 2 MG/ML GOTAS ORALES EN SOLUCIÓN</td>\n",
       "      <td>Kern Pharma, S.L.</td>\n",
       "      <td>01/10/1965</td>\n",
       "      <td>Autorizado</td>\n",
       "      <td>01/10/1965</td>\n",
       "      <td>N05BA01</td>\n",
       "      <td>DIAZEPAM</td>\n",
       "      <td>1</td>\n",
       "      <td>SI</td>\n",
       "      <td>NO</td>\n",
       "      <td>Medicamento Sujeto A Prescripción Médica. Psic...</td>\n",
       "      <td>NaN</td>\n",
       "      <td>SI</td>\n",
       "      <td>NO</td>\n",
       "    </tr>\n",
       "    <tr>\n",
       "      <th>11566</th>\n",
       "      <td>58001</td>\n",
       "      <td>STESOLID 5 mg solución rectal</td>\n",
       "      <td>Faes Farma S.A.</td>\n",
       "      <td>01/10/1989</td>\n",
       "      <td>Autorizado</td>\n",
       "      <td>01/10/1989</td>\n",
       "      <td>N05BA01</td>\n",
       "      <td>DIAZEPAM</td>\n",
       "      <td>1</td>\n",
       "      <td>SI</td>\n",
       "      <td>NO</td>\n",
       "      <td>Medicamento Sujeto A Prescripción Médica. Psic...</td>\n",
       "      <td>NaN</td>\n",
       "      <td>SI</td>\n",
       "      <td>NO</td>\n",
       "    </tr>\n",
       "    <tr>\n",
       "      <th>11858</th>\n",
       "      <td>51519</td>\n",
       "      <td>TEPAZEPAN CAPSULAS</td>\n",
       "      <td>Kern Pharma, S.L.</td>\n",
       "      <td>01/07/1973</td>\n",
       "      <td>Autorizado</td>\n",
       "      <td>01/07/1973</td>\n",
       "      <td>N05BA51</td>\n",
       "      <td>SULPIRIDA, PIRIDOXINA HIDROCLORURO, DIAZEPAM</td>\n",
       "      <td>3</td>\n",
       "      <td>SI</td>\n",
       "      <td>NO</td>\n",
       "      <td>Medicamento Sujeto A Prescripción Médica. Psic...</td>\n",
       "      <td>NaN</td>\n",
       "      <td>SI</td>\n",
       "      <td>NO</td>\n",
       "    </tr>\n",
       "    <tr>\n",
       "      <th>12138</th>\n",
       "      <td>47356</td>\n",
       "      <td>TROPARGAL 12,5 mg/2,5 mg CAPSULAS DURAS</td>\n",
       "      <td>Sanofi-Aventis, S.A.</td>\n",
       "      <td>01/03/1969</td>\n",
       "      <td>Anulado</td>\n",
       "      <td>08/03/2019</td>\n",
       "      <td>N06CA01</td>\n",
       "      <td>NORTRIPTILINA HIDROCLORURO, DIAZEPAM</td>\n",
       "      <td>2</td>\n",
       "      <td>NO</td>\n",
       "      <td>NO</td>\n",
       "      <td>Medicamento Sujeto A Prescripción Médica. Psic...</td>\n",
       "      <td>NaN</td>\n",
       "      <td>SI</td>\n",
       "      <td>NO</td>\n",
       "    </tr>\n",
       "    <tr>\n",
       "      <th>12368</th>\n",
       "      <td>39409</td>\n",
       "      <td>VALIUM 5mg COMPRIMIDOS</td>\n",
       "      <td>Atnahs Pharma Netherlands Bv.</td>\n",
       "      <td>01/11/1963</td>\n",
       "      <td>Autorizado</td>\n",
       "      <td>01/11/1963</td>\n",
       "      <td>N05BA01</td>\n",
       "      <td>DIAZEPAM</td>\n",
       "      <td>1</td>\n",
       "      <td>SI</td>\n",
       "      <td>NO</td>\n",
       "      <td>Medicamento Sujeto A Prescripción Médica. Psic...</td>\n",
       "      <td>NaN</td>\n",
       "      <td>SI</td>\n",
       "      <td>NO</td>\n",
       "    </tr>\n",
       "    <tr>\n",
       "      <th>12369</th>\n",
       "      <td>39943</td>\n",
       "      <td>VALIUM 10 mg /2 ml SOLUCION INYECTABLE</td>\n",
       "      <td>Atnahs Pharma Netherlands Bv.</td>\n",
       "      <td>01/07/1964</td>\n",
       "      <td>Autorizado</td>\n",
       "      <td>01/07/1964</td>\n",
       "      <td>N05BA01</td>\n",
       "      <td>DIAZEPAM</td>\n",
       "      <td>1</td>\n",
       "      <td>SI</td>\n",
       "      <td>NO</td>\n",
       "      <td>Medicamento Sujeto A Prescripción Médica. Psic...</td>\n",
       "      <td>NaN</td>\n",
       "      <td>SI</td>\n",
       "      <td>NO</td>\n",
       "    </tr>\n",
       "    <tr>\n",
       "      <th>12377</th>\n",
       "      <td>39905</td>\n",
       "      <td>VALIUM 10 mg COMPRIMIDOS</td>\n",
       "      <td>Atnahs Pharma Netherlands Bv.</td>\n",
       "      <td>01/07/1964</td>\n",
       "      <td>Autorizado</td>\n",
       "      <td>01/07/1964</td>\n",
       "      <td>N05BA01</td>\n",
       "      <td>DIAZEPAM</td>\n",
       "      <td>1</td>\n",
       "      <td>SI</td>\n",
       "      <td>NO</td>\n",
       "      <td>Medicamento Sujeto A Prescripción Médica. Psic...</td>\n",
       "      <td>NaN</td>\n",
       "      <td>SI</td>\n",
       "      <td>NO</td>\n",
       "    </tr>\n",
       "    <tr>\n",
       "      <th>13334</th>\n",
       "      <td>81275</td>\n",
       "      <td>DIAZEPAM BLUEFISH 5 MG COMPRIMIDOS EFG</td>\n",
       "      <td>Bluefish Pharmaceuticals Ab</td>\n",
       "      <td>06/10/2016</td>\n",
       "      <td>Autorizado</td>\n",
       "      <td>07/10/2016</td>\n",
       "      <td>N05BA01</td>\n",
       "      <td>DIAZEPAM</td>\n",
       "      <td>1</td>\n",
       "      <td>SI</td>\n",
       "      <td>NO</td>\n",
       "      <td>Medicamento Sujeto A Prescripción Médica. Psic...</td>\n",
       "      <td>NaN</td>\n",
       "      <td>SI</td>\n",
       "      <td>NO</td>\n",
       "    </tr>\n",
       "    <tr>\n",
       "      <th>13338</th>\n",
       "      <td>81514</td>\n",
       "      <td>DIAZEPAM AUROVITAS SPAIN 5 MG COMPRIMIDOS EFG</td>\n",
       "      <td>Aurovitas Spain, S.A.U.</td>\n",
       "      <td>13/12/2016</td>\n",
       "      <td>Autorizado</td>\n",
       "      <td>14/12/2016</td>\n",
       "      <td>N05BA01</td>\n",
       "      <td>DIAZEPAM</td>\n",
       "      <td>1</td>\n",
       "      <td>SI</td>\n",
       "      <td>NO</td>\n",
       "      <td>Medicamento Sujeto A Prescripción Médica. Psic...</td>\n",
       "      <td>NaN</td>\n",
       "      <td>SI</td>\n",
       "      <td>NO</td>\n",
       "    </tr>\n",
       "    <tr>\n",
       "      <th>13339</th>\n",
       "      <td>81515</td>\n",
       "      <td>DIAZEPAM AUROVITAS SPAIN 10 MG COMPRIMIDOS EFG</td>\n",
       "      <td>Aurovitas Spain, S.A.U.</td>\n",
       "      <td>13/12/2016</td>\n",
       "      <td>Autorizado</td>\n",
       "      <td>14/12/2016</td>\n",
       "      <td>N05BA01</td>\n",
       "      <td>DIAZEPAM</td>\n",
       "      <td>1</td>\n",
       "      <td>SI</td>\n",
       "      <td>NO</td>\n",
       "      <td>Medicamento Sujeto A Prescripción Médica. Psic...</td>\n",
       "      <td>NaN</td>\n",
       "      <td>SI</td>\n",
       "      <td>NO</td>\n",
       "    </tr>\n",
       "    <tr>\n",
       "      <th>14555</th>\n",
       "      <td>82224</td>\n",
       "      <td>DIAZEPAM VIR 2 MG COMPRIMIDOS EFG</td>\n",
       "      <td>Industria Quimica Y Farmaceutica Vir, S.A.</td>\n",
       "      <td>06/07/2017</td>\n",
       "      <td>Autorizado</td>\n",
       "      <td>07/07/2017</td>\n",
       "      <td>N05BA01</td>\n",
       "      <td>DIAZEPAM</td>\n",
       "      <td>1</td>\n",
       "      <td>SI</td>\n",
       "      <td>NO</td>\n",
       "      <td>Medicamento Sujeto A Prescripción Médica. Psic...</td>\n",
       "      <td>NaN</td>\n",
       "      <td>SI</td>\n",
       "      <td>NO</td>\n",
       "    </tr>\n",
       "    <tr>\n",
       "      <th>14614</th>\n",
       "      <td>82223</td>\n",
       "      <td>DIAZEPAM VIR 10 MG COMPRIMIDOS EFG</td>\n",
       "      <td>Industria Quimica Y Farmaceutica Vir, S.A.</td>\n",
       "      <td>06/07/2017</td>\n",
       "      <td>Autorizado</td>\n",
       "      <td>07/07/2017</td>\n",
       "      <td>N05BA01</td>\n",
       "      <td>DIAZEPAM</td>\n",
       "      <td>1</td>\n",
       "      <td>SI</td>\n",
       "      <td>NO</td>\n",
       "      <td>Medicamento Sujeto A Prescripción Médica. Psic...</td>\n",
       "      <td>NaN</td>\n",
       "      <td>SI</td>\n",
       "      <td>NO</td>\n",
       "    </tr>\n",
       "    <tr>\n",
       "      <th>14644</th>\n",
       "      <td>82225</td>\n",
       "      <td>DIAZEPAM VIR 5 MG COMPRIMIDOS EFG</td>\n",
       "      <td>Industria Quimica Y Farmaceutica Vir, S.A.</td>\n",
       "      <td>06/07/2017</td>\n",
       "      <td>Autorizado</td>\n",
       "      <td>07/07/2017</td>\n",
       "      <td>N05BA01</td>\n",
       "      <td>DIAZEPAM</td>\n",
       "      <td>1</td>\n",
       "      <td>SI</td>\n",
       "      <td>NO</td>\n",
       "      <td>Medicamento Sujeto A Prescripción Médica. Psic...</td>\n",
       "      <td>NaN</td>\n",
       "      <td>SI</td>\n",
       "      <td>NO</td>\n",
       "    </tr>\n",
       "    <tr>\n",
       "      <th>15321</th>\n",
       "      <td>82872</td>\n",
       "      <td>DIAZEPAM DURBAN 10 MG COMPRIMIDOS EFG</td>\n",
       "      <td>Laboratorios Francisco Durban, S.A.</td>\n",
       "      <td>16/02/2018</td>\n",
       "      <td>Autorizado</td>\n",
       "      <td>17/02/2018</td>\n",
       "      <td>N05BA01</td>\n",
       "      <td>DIAZEPAM</td>\n",
       "      <td>1</td>\n",
       "      <td>SI</td>\n",
       "      <td>NO</td>\n",
       "      <td>Medicamento Sujeto A Prescripción Médica. Psic...</td>\n",
       "      <td>NaN</td>\n",
       "      <td>SI</td>\n",
       "      <td>NO</td>\n",
       "    </tr>\n",
       "    <tr>\n",
       "      <th>15495</th>\n",
       "      <td>82873</td>\n",
       "      <td>DIAZEPAM DURBAN 5 MG COMPRIMIDOS EFG</td>\n",
       "      <td>Laboratorios Francisco Durban, S.A.</td>\n",
       "      <td>16/02/2018</td>\n",
       "      <td>Autorizado</td>\n",
       "      <td>17/02/2018</td>\n",
       "      <td>N05BA01</td>\n",
       "      <td>DIAZEPAM</td>\n",
       "      <td>1</td>\n",
       "      <td>SI</td>\n",
       "      <td>NO</td>\n",
       "      <td>Medicamento Sujeto A Prescripción Médica. Psic...</td>\n",
       "      <td>NaN</td>\n",
       "      <td>SI</td>\n",
       "      <td>NO</td>\n",
       "    </tr>\n",
       "    <tr>\n",
       "      <th>19396</th>\n",
       "      <td>80698</td>\n",
       "      <td>DIAZEPAM CINFA 5 MG COMPRIMIDOS EFG</td>\n",
       "      <td>Laboratorios Cinfa, S.A.</td>\n",
       "      <td>26/02/2016</td>\n",
       "      <td>Autorizado</td>\n",
       "      <td>26/02/2016</td>\n",
       "      <td>N05BA01</td>\n",
       "      <td>DIAZEPAM</td>\n",
       "      <td>1</td>\n",
       "      <td>SI</td>\n",
       "      <td>NO</td>\n",
       "      <td>Medicamento Sujeto A Prescripción Médica. Psic...</td>\n",
       "      <td>NaN</td>\n",
       "      <td>SI</td>\n",
       "      <td>NO</td>\n",
       "    </tr>\n",
       "    <tr>\n",
       "      <th>20131</th>\n",
       "      <td>84530</td>\n",
       "      <td>DIAZEPAM GRINDEKS 5 MG COMPRIMIDOS EFG</td>\n",
       "      <td>As Grindeks</td>\n",
       "      <td>10/10/2019</td>\n",
       "      <td>Autorizado</td>\n",
       "      <td>11/10/2019</td>\n",
       "      <td>N05BA01</td>\n",
       "      <td>DIAZEPAM</td>\n",
       "      <td>1</td>\n",
       "      <td>NO</td>\n",
       "      <td>NO</td>\n",
       "      <td>Medicamento Sujeto A Prescripción Médica. Psic...</td>\n",
       "      <td>NaN</td>\n",
       "      <td>SI</td>\n",
       "      <td>NO</td>\n",
       "    </tr>\n",
       "    <tr>\n",
       "      <th>20748</th>\n",
       "      <td>84945</td>\n",
       "      <td>DIAZEPAM LESVI 10 MG COMPRIMIDOS EFG</td>\n",
       "      <td>Laboratorios Lesvi, S.L.</td>\n",
       "      <td>10/03/2020</td>\n",
       "      <td>Anulado</td>\n",
       "      <td>02/08/2021</td>\n",
       "      <td>N05BA01</td>\n",
       "      <td>DIAZEPAM</td>\n",
       "      <td>1</td>\n",
       "      <td>NO</td>\n",
       "      <td>NO</td>\n",
       "      <td>Medicamento Sujeto A Prescripción Médica. Psic...</td>\n",
       "      <td>NaN</td>\n",
       "      <td>SI</td>\n",
       "      <td>NO</td>\n",
       "    </tr>\n",
       "    <tr>\n",
       "      <th>20749</th>\n",
       "      <td>84946</td>\n",
       "      <td>DIAZEPAM LESVI 5 MG COMPRIMIDOS EFG</td>\n",
       "      <td>Laboratorios Lesvi, S.L.</td>\n",
       "      <td>10/03/2020</td>\n",
       "      <td>Anulado</td>\n",
       "      <td>02/08/2021</td>\n",
       "      <td>N05BA01</td>\n",
       "      <td>DIAZEPAM</td>\n",
       "      <td>1</td>\n",
       "      <td>NO</td>\n",
       "      <td>NO</td>\n",
       "      <td>Medicamento Sujeto A Prescripción Médica. Psic...</td>\n",
       "      <td>NaN</td>\n",
       "      <td>SI</td>\n",
       "      <td>NO</td>\n",
       "    </tr>\n",
       "    <tr>\n",
       "      <th>21472</th>\n",
       "      <td>85969</td>\n",
       "      <td>DIAZEPAM NORMON 10 MG COMPRIMIDOS EFG</td>\n",
       "      <td>Laboratorios Normon, S.A.</td>\n",
       "      <td>16/05/2021</td>\n",
       "      <td>Autorizado</td>\n",
       "      <td>18/05/2021</td>\n",
       "      <td>N05BA01</td>\n",
       "      <td>DIAZEPAM</td>\n",
       "      <td>1</td>\n",
       "      <td>SI</td>\n",
       "      <td>NO</td>\n",
       "      <td>Medicamento Sujeto A Prescripción Médica. Psic...</td>\n",
       "      <td>NaN</td>\n",
       "      <td>SI</td>\n",
       "      <td>NO</td>\n",
       "    </tr>\n",
       "    <tr>\n",
       "      <th>21786</th>\n",
       "      <td>85979</td>\n",
       "      <td>DIAZEPAM NORMOGEN 5 MG COMPRIMIDOS EFG</td>\n",
       "      <td>Laboratorios Normon, S.A.</td>\n",
       "      <td>24/05/2021</td>\n",
       "      <td>Autorizado</td>\n",
       "      <td>25/05/2021</td>\n",
       "      <td>N05BA01</td>\n",
       "      <td>DIAZEPAM</td>\n",
       "      <td>1</td>\n",
       "      <td>SI</td>\n",
       "      <td>NO</td>\n",
       "      <td>Medicamento Sujeto A Prescripción Médica. Psic...</td>\n",
       "      <td>NaN</td>\n",
       "      <td>SI</td>\n",
       "      <td>NO</td>\n",
       "    </tr>\n",
       "    <tr>\n",
       "      <th>22468</th>\n",
       "      <td>86114</td>\n",
       "      <td>DIAZEPAM ARISTO 10 MG COMPRIMIDOS EFG</td>\n",
       "      <td>Aristo Pharma Iberia, S.L</td>\n",
       "      <td>30/07/2021</td>\n",
       "      <td>Autorizado</td>\n",
       "      <td>31/07/2021</td>\n",
       "      <td>N05BA01</td>\n",
       "      <td>DIAZEPAM</td>\n",
       "      <td>1</td>\n",
       "      <td>NO</td>\n",
       "      <td>NO</td>\n",
       "      <td>Medicamento Sujeto A Prescripción Médica</td>\n",
       "      <td>NaN</td>\n",
       "      <td>SI</td>\n",
       "      <td>NO</td>\n",
       "    </tr>\n",
       "    <tr>\n",
       "      <th>22504</th>\n",
       "      <td>86113</td>\n",
       "      <td>DIAZEPAM ARISTO 5 MG COMPRIMIDOS EFG</td>\n",
       "      <td>Aristo Pharma Iberia, S.L</td>\n",
       "      <td>30/07/2021</td>\n",
       "      <td>Autorizado</td>\n",
       "      <td>31/07/2021</td>\n",
       "      <td>N05BA01</td>\n",
       "      <td>DIAZEPAM</td>\n",
       "      <td>1</td>\n",
       "      <td>NO</td>\n",
       "      <td>NO</td>\n",
       "      <td>Medicamento Sujeto A Prescripción Médica</td>\n",
       "      <td>NaN</td>\n",
       "      <td>SI</td>\n",
       "      <td>NO</td>\n",
       "    </tr>\n",
       "    <tr>\n",
       "      <th>23748</th>\n",
       "      <td>85968</td>\n",
       "      <td>DIAZEPAM NORMON 2,5 MG COMPRIMIDOS</td>\n",
       "      <td>Laboratorios Normon, S.A.</td>\n",
       "      <td>16/05/2021</td>\n",
       "      <td>Autorizado</td>\n",
       "      <td>18/05/2021</td>\n",
       "      <td>N05BA01</td>\n",
       "      <td>DIAZEPAM</td>\n",
       "      <td>1</td>\n",
       "      <td>SI</td>\n",
       "      <td>NO</td>\n",
       "      <td>Medicamento Sujeto A Prescripción Médica. Psic...</td>\n",
       "      <td>NaN</td>\n",
       "      <td>SI</td>\n",
       "      <td>NO</td>\n",
       "    </tr>\n",
       "    <tr>\n",
       "      <th>23874</th>\n",
       "      <td>88091</td>\n",
       "      <td>DIAZEPAM PENSA 10 MG COMPRIMIDOS EFG</td>\n",
       "      <td>Towa Pharmaceutical S.A.</td>\n",
       "      <td>16/09/2022</td>\n",
       "      <td>Autorizado</td>\n",
       "      <td>17/09/2022</td>\n",
       "      <td>N05BA01</td>\n",
       "      <td>DIAZEPAM</td>\n",
       "      <td>1</td>\n",
       "      <td>NO</td>\n",
       "      <td>NO</td>\n",
       "      <td>Medicamento Sujeto A Prescripción Médica. Psic...</td>\n",
       "      <td>NaN</td>\n",
       "      <td>SI</td>\n",
       "      <td>NO</td>\n",
       "    </tr>\n",
       "    <tr>\n",
       "      <th>24055</th>\n",
       "      <td>88092</td>\n",
       "      <td>DIAZEPAM PENSA 2,5 MG COMPRIMIDOS</td>\n",
       "      <td>Towa Pharmaceutical S.A.</td>\n",
       "      <td>16/09/2022</td>\n",
       "      <td>Autorizado</td>\n",
       "      <td>17/09/2022</td>\n",
       "      <td>N05BA01</td>\n",
       "      <td>DIAZEPAM</td>\n",
       "      <td>1</td>\n",
       "      <td>NO</td>\n",
       "      <td>NO</td>\n",
       "      <td>Medicamento Sujeto A Prescripción Médica. Psic...</td>\n",
       "      <td>NaN</td>\n",
       "      <td>SI</td>\n",
       "      <td>NO</td>\n",
       "    </tr>\n",
       "    <tr>\n",
       "      <th>24056</th>\n",
       "      <td>88090</td>\n",
       "      <td>DIAZEPAM PENSA 5 MG COMPRIMIDOS EFG</td>\n",
       "      <td>Towa Pharmaceutical S.A.</td>\n",
       "      <td>16/09/2022</td>\n",
       "      <td>Autorizado</td>\n",
       "      <td>17/09/2022</td>\n",
       "      <td>N05BA01</td>\n",
       "      <td>DIAZEPAM</td>\n",
       "      <td>1</td>\n",
       "      <td>NO</td>\n",
       "      <td>NO</td>\n",
       "      <td>Medicamento Sujeto A Prescripción Médica. Psic...</td>\n",
       "      <td>NaN</td>\n",
       "      <td>SI</td>\n",
       "      <td>NO</td>\n",
       "    </tr>\n",
       "  </tbody>\n",
       "</table>\n",
       "</div>"
      ],
      "text/plain": [
       "      Nº Registro                                       Medicamento  \\\n",
       "301         40960                     DIAZEPAN LEO 5 mg COMPRIMIDOS   \n",
       "573         46050                                        VINCOSEDAN   \n",
       "879         58000                    STESOLID 10 mg solución rectal   \n",
       "1072        53295                             ANSIUM CAPSULAS DURAS   \n",
       "1200        46993                      PACIUM 5 mg / 10 mg CAPSULAS   \n",
       "2644        80697              DIAZEPAM STADA 10 MG COMPRIMIDOS EFG   \n",
       "2676        80696               DIAZEPAM STADA 5 MG COMPRIMIDOS EFG   \n",
       "2857        80702            DIAZEPAM QUALIGEN 5 MG COMPRIMIDOS EFG   \n",
       "3181        39501        ANEUROL 5 mg/10 mg COMPRIMIDOS RECUBIERTOS   \n",
       "5368        39692                 DIAZEPAN PRODES 10 mg COMPRIMIDOS   \n",
       "5375        42003                DIAZEPAN PRODES 2,5 mg COMPRIMIDOS   \n",
       "5385        48242                 DIAZEPAN PRODES 25 mg COMPRIMIDOS   \n",
       "5386        39693                  DIAZEPAN PRODES 5 mg COMPRIMIDOS   \n",
       "5438        80699              DIAZEPAM CINFA 10 MG COMPRIMIDOS EFG   \n",
       "5445        80703           DIAZEPAM QUALIGEN 10 MG COMPRIMIDOS EFG   \n",
       "5450        40959                     DIAZEPAN LEO 2 mg COMPRIMIDOS   \n",
       "5451        51208                  DIAZEPAM NORMON 5 mg COMPRIMIDOS   \n",
       "5683        41598  DIAZEPAN PRODES 2 MG/ML GOTAS ORALES EN SOLUCIÓN   \n",
       "11566       58001                     STESOLID 5 mg solución rectal   \n",
       "11858       51519                                TEPAZEPAN CAPSULAS   \n",
       "12138       47356           TROPARGAL 12,5 mg/2,5 mg CAPSULAS DURAS   \n",
       "12368       39409                            VALIUM 5mg COMPRIMIDOS   \n",
       "12369       39943            VALIUM 10 mg /2 ml SOLUCION INYECTABLE   \n",
       "12377       39905                          VALIUM 10 mg COMPRIMIDOS   \n",
       "13334       81275            DIAZEPAM BLUEFISH 5 MG COMPRIMIDOS EFG   \n",
       "13338       81514     DIAZEPAM AUROVITAS SPAIN 5 MG COMPRIMIDOS EFG   \n",
       "13339       81515    DIAZEPAM AUROVITAS SPAIN 10 MG COMPRIMIDOS EFG   \n",
       "14555       82224                 DIAZEPAM VIR 2 MG COMPRIMIDOS EFG   \n",
       "14614       82223                DIAZEPAM VIR 10 MG COMPRIMIDOS EFG   \n",
       "14644       82225                 DIAZEPAM VIR 5 MG COMPRIMIDOS EFG   \n",
       "15321       82872             DIAZEPAM DURBAN 10 MG COMPRIMIDOS EFG   \n",
       "15495       82873              DIAZEPAM DURBAN 5 MG COMPRIMIDOS EFG   \n",
       "19396       80698               DIAZEPAM CINFA 5 MG COMPRIMIDOS EFG   \n",
       "20131       84530            DIAZEPAM GRINDEKS 5 MG COMPRIMIDOS EFG   \n",
       "20748       84945              DIAZEPAM LESVI 10 MG COMPRIMIDOS EFG   \n",
       "20749       84946               DIAZEPAM LESVI 5 MG COMPRIMIDOS EFG   \n",
       "21472       85969             DIAZEPAM NORMON 10 MG COMPRIMIDOS EFG   \n",
       "21786       85979            DIAZEPAM NORMOGEN 5 MG COMPRIMIDOS EFG   \n",
       "22468       86114             DIAZEPAM ARISTO 10 MG COMPRIMIDOS EFG   \n",
       "22504       86113              DIAZEPAM ARISTO 5 MG COMPRIMIDOS EFG   \n",
       "23748       85968                DIAZEPAM NORMON 2,5 MG COMPRIMIDOS   \n",
       "23874       88091              DIAZEPAM PENSA 10 MG COMPRIMIDOS EFG   \n",
       "24055       88092                 DIAZEPAM PENSA 2,5 MG COMPRIMIDOS   \n",
       "24056       88090               DIAZEPAM PENSA 5 MG COMPRIMIDOS EFG   \n",
       "\n",
       "                                      Laboratorio  Fecha Aut.      Estado  \\\n",
       "301                              Teofarma, S.R.L.  01/05/1965  Autorizado   \n",
       "573            Laboratorios Asociados Nupel, S.L.  01/05/1968     Anulado   \n",
       "879                               Faes Farma S.A.  01/10/1989  Autorizado   \n",
       "1072                    Neuraxpharm Spain, S.L.U.  01/09/1975  Autorizado   \n",
       "1200                Biowise Pharmaceuticals, S.L.  01/12/1968     Anulado   \n",
       "2644                      Laboratorio Stada, S.L.  26/02/2016  Autorizado   \n",
       "2676                      Laboratorio Stada, S.L.  26/02/2016  Autorizado   \n",
       "2857                    Neuraxpharm Spain, S.L.U.  02/03/2016  Autorizado   \n",
       "3181                                  Lacer, S.A.  01/01/1964  Autorizado   \n",
       "5368                            Kern Pharma, S.L.  01/05/1964  Autorizado   \n",
       "5375                            Kern Pharma, S.L.  01/10/1965  Autorizado   \n",
       "5385                            Kern Pharma, S.L.  01/07/1969  Autorizado   \n",
       "5386                            Kern Pharma, S.L.  01/05/1964  Autorizado   \n",
       "5438                     Laboratorios Cinfa, S.A.  26/02/2016  Autorizado   \n",
       "5445                    Neuraxpharm Spain, S.L.U.  02/03/2016  Autorizado   \n",
       "5450                             Teofarma, S.R.L.  01/05/1965  Autorizado   \n",
       "5451                    Laboratorios Normon, S.A.  01/05/1973  Autorizado   \n",
       "5683                            Kern Pharma, S.L.  01/10/1965  Autorizado   \n",
       "11566                             Faes Farma S.A.  01/10/1989  Autorizado   \n",
       "11858                           Kern Pharma, S.L.  01/07/1973  Autorizado   \n",
       "12138                        Sanofi-Aventis, S.A.  01/03/1969     Anulado   \n",
       "12368               Atnahs Pharma Netherlands Bv.  01/11/1963  Autorizado   \n",
       "12369               Atnahs Pharma Netherlands Bv.  01/07/1964  Autorizado   \n",
       "12377               Atnahs Pharma Netherlands Bv.  01/07/1964  Autorizado   \n",
       "13334                 Bluefish Pharmaceuticals Ab  06/10/2016  Autorizado   \n",
       "13338                     Aurovitas Spain, S.A.U.  13/12/2016  Autorizado   \n",
       "13339                     Aurovitas Spain, S.A.U.  13/12/2016  Autorizado   \n",
       "14555  Industria Quimica Y Farmaceutica Vir, S.A.  06/07/2017  Autorizado   \n",
       "14614  Industria Quimica Y Farmaceutica Vir, S.A.  06/07/2017  Autorizado   \n",
       "14644  Industria Quimica Y Farmaceutica Vir, S.A.  06/07/2017  Autorizado   \n",
       "15321         Laboratorios Francisco Durban, S.A.  16/02/2018  Autorizado   \n",
       "15495         Laboratorios Francisco Durban, S.A.  16/02/2018  Autorizado   \n",
       "19396                    Laboratorios Cinfa, S.A.  26/02/2016  Autorizado   \n",
       "20131                                 As Grindeks  10/10/2019  Autorizado   \n",
       "20748                    Laboratorios Lesvi, S.L.  10/03/2020     Anulado   \n",
       "20749                    Laboratorios Lesvi, S.L.  10/03/2020     Anulado   \n",
       "21472                   Laboratorios Normon, S.A.  16/05/2021  Autorizado   \n",
       "21786                   Laboratorios Normon, S.A.  24/05/2021  Autorizado   \n",
       "22468                   Aristo Pharma Iberia, S.L  30/07/2021  Autorizado   \n",
       "22504                   Aristo Pharma Iberia, S.L  30/07/2021  Autorizado   \n",
       "23748                   Laboratorios Normon, S.A.  16/05/2021  Autorizado   \n",
       "23874                    Towa Pharmaceutical S.A.  16/09/2022  Autorizado   \n",
       "24055                    Towa Pharmaceutical S.A.  16/09/2022  Autorizado   \n",
       "24056                    Towa Pharmaceutical S.A.  16/09/2022  Autorizado   \n",
       "\n",
       "      Fecha Estado Cód. ATC                            Principios Activos  \\\n",
       "301     01/05/1965  N05BA01                                      DIAZEPAM   \n",
       "573     29/04/2021  N05BA51             PIRIDOXINA HIDROCLORURO, DIAZEPAM   \n",
       "879     01/10/1989  N05BA01                                      DIAZEPAM   \n",
       "1072    01/09/1975  N05BA51                           SULPIRIDA, DIAZEPAM   \n",
       "1200    07/05/2020  N05BA51             PIRIDOXINA HIDROCLORURO, DIAZEPAM   \n",
       "2644    26/02/2016  N05BA01                                      DIAZEPAM   \n",
       "2676    26/02/2016  N05BA01                                      DIAZEPAM   \n",
       "2857    02/03/2016  N05BA01                                      DIAZEPAM   \n",
       "3181    01/01/1964  N05BA01             PIRIDOXINA HIDROCLORURO, DIAZEPAM   \n",
       "5368    01/05/1964  N05BA01                                      DIAZEPAM   \n",
       "5375    01/10/1965  N05BA01                                      DIAZEPAM   \n",
       "5385    01/07/1969  N05BA01                                      DIAZEPAM   \n",
       "5386    01/05/1964  N05BA01                                      DIAZEPAM   \n",
       "5438    26/02/2016  N05BA01                                      DIAZEPAM   \n",
       "5445    02/03/2016  N05BA01                                      DIAZEPAM   \n",
       "5450    01/05/1965  N05BA01                                      DIAZEPAM   \n",
       "5451    01/05/1973  N05BA01                                      DIAZEPAM   \n",
       "5683    01/10/1965  N05BA01                                      DIAZEPAM   \n",
       "11566   01/10/1989  N05BA01                                      DIAZEPAM   \n",
       "11858   01/07/1973  N05BA51  SULPIRIDA, PIRIDOXINA HIDROCLORURO, DIAZEPAM   \n",
       "12138   08/03/2019  N06CA01          NORTRIPTILINA HIDROCLORURO, DIAZEPAM   \n",
       "12368   01/11/1963  N05BA01                                      DIAZEPAM   \n",
       "12369   01/07/1964  N05BA01                                      DIAZEPAM   \n",
       "12377   01/07/1964  N05BA01                                      DIAZEPAM   \n",
       "13334   07/10/2016  N05BA01                                      DIAZEPAM   \n",
       "13338   14/12/2016  N05BA01                                      DIAZEPAM   \n",
       "13339   14/12/2016  N05BA01                                      DIAZEPAM   \n",
       "14555   07/07/2017  N05BA01                                      DIAZEPAM   \n",
       "14614   07/07/2017  N05BA01                                      DIAZEPAM   \n",
       "14644   07/07/2017  N05BA01                                      DIAZEPAM   \n",
       "15321   17/02/2018  N05BA01                                      DIAZEPAM   \n",
       "15495   17/02/2018  N05BA01                                      DIAZEPAM   \n",
       "19396   26/02/2016  N05BA01                                      DIAZEPAM   \n",
       "20131   11/10/2019  N05BA01                                      DIAZEPAM   \n",
       "20748   02/08/2021  N05BA01                                      DIAZEPAM   \n",
       "20749   02/08/2021  N05BA01                                      DIAZEPAM   \n",
       "21472   18/05/2021  N05BA01                                      DIAZEPAM   \n",
       "21786   25/05/2021  N05BA01                                      DIAZEPAM   \n",
       "22468   31/07/2021  N05BA01                                      DIAZEPAM   \n",
       "22504   31/07/2021  N05BA01                                      DIAZEPAM   \n",
       "23748   18/05/2021  N05BA01                                      DIAZEPAM   \n",
       "23874   17/09/2022  N05BA01                                      DIAZEPAM   \n",
       "24055   17/09/2022  N05BA01                                      DIAZEPAM   \n",
       "24056   17/09/2022  N05BA01                                      DIAZEPAM   \n",
       "\n",
       "       Nº P. Activos ¿Comercializado? ¿Triangulo Amarillo?  \\\n",
       "301                1               SI                   NO   \n",
       "573                2               NO                   NO   \n",
       "879                1               SI                   NO   \n",
       "1072               2               SI                   NO   \n",
       "1200               2               NO                   NO   \n",
       "2644               1               SI                   NO   \n",
       "2676               1               SI                   NO   \n",
       "2857               1               SI                   NO   \n",
       "3181               2               SI                   NO   \n",
       "5368               1               SI                   NO   \n",
       "5375               1               SI                   NO   \n",
       "5385               1               SI                   NO   \n",
       "5386               1               SI                   NO   \n",
       "5438               1               SI                   NO   \n",
       "5445               1               SI                   NO   \n",
       "5450               1               SI                   NO   \n",
       "5451               1               SI                   NO   \n",
       "5683               1               SI                   NO   \n",
       "11566              1               SI                   NO   \n",
       "11858              3               SI                   NO   \n",
       "12138              2               NO                   NO   \n",
       "12368              1               SI                   NO   \n",
       "12369              1               SI                   NO   \n",
       "12377              1               SI                   NO   \n",
       "13334              1               SI                   NO   \n",
       "13338              1               SI                   NO   \n",
       "13339              1               SI                   NO   \n",
       "14555              1               SI                   NO   \n",
       "14614              1               SI                   NO   \n",
       "14644              1               SI                   NO   \n",
       "15321              1               SI                   NO   \n",
       "15495              1               SI                   NO   \n",
       "19396              1               SI                   NO   \n",
       "20131              1               NO                   NO   \n",
       "20748              1               NO                   NO   \n",
       "20749              1               NO                   NO   \n",
       "21472              1               SI                   NO   \n",
       "21786              1               SI                   NO   \n",
       "22468              1               NO                   NO   \n",
       "22504              1               NO                   NO   \n",
       "23748              1               SI                   NO   \n",
       "23874              1               NO                   NO   \n",
       "24055              1               NO                   NO   \n",
       "24056              1               NO                   NO   \n",
       "\n",
       "                                           Observaciones ¿Sustituible?  \\\n",
       "301    Medicamento Sujeto A Prescripción Médica. Psic...           NaN   \n",
       "573    Medicamento Sujeto A Prescripción Médica. Psic...           NaN   \n",
       "879    Medicamento Sujeto A Prescripción Médica. Psic...           NaN   \n",
       "1072   Medicamento Sujeto A Prescripción Médica. Psic...           NaN   \n",
       "1200   Medicamento Sujeto A Prescripción Médica. Psic...           NaN   \n",
       "2644   Medicamento Sujeto A Prescripción Médica. Psic...           NaN   \n",
       "2676   Medicamento Sujeto A Prescripción Médica. Psic...           NaN   \n",
       "2857   Medicamento Sujeto A Prescripción Médica. Psic...           NaN   \n",
       "3181   Medicamento Sujeto A Prescripción Médica. Psic...           NaN   \n",
       "5368   Medicamento Sujeto A Prescripción Médica. Psic...           NaN   \n",
       "5375   Medicamento Sujeto A Prescripción Médica. Psic...           NaN   \n",
       "5385   Medicamento Sujeto A Prescripción Médica. Psic...           NaN   \n",
       "5386   Medicamento Sujeto A Prescripción Médica. Psic...           NaN   \n",
       "5438   Medicamento Sujeto A Prescripción Médica. Psic...           NaN   \n",
       "5445   Medicamento Sujeto A Prescripción Médica. Psic...           NaN   \n",
       "5450   Medicamento Sujeto A Prescripción Médica. Psic...           NaN   \n",
       "5451   Medicamento Sujeto A Prescripción Médica. Psic...           NaN   \n",
       "5683   Medicamento Sujeto A Prescripción Médica. Psic...           NaN   \n",
       "11566  Medicamento Sujeto A Prescripción Médica. Psic...           NaN   \n",
       "11858  Medicamento Sujeto A Prescripción Médica. Psic...           NaN   \n",
       "12138  Medicamento Sujeto A Prescripción Médica. Psic...           NaN   \n",
       "12368  Medicamento Sujeto A Prescripción Médica. Psic...           NaN   \n",
       "12369  Medicamento Sujeto A Prescripción Médica. Psic...           NaN   \n",
       "12377  Medicamento Sujeto A Prescripción Médica. Psic...           NaN   \n",
       "13334  Medicamento Sujeto A Prescripción Médica. Psic...           NaN   \n",
       "13338  Medicamento Sujeto A Prescripción Médica. Psic...           NaN   \n",
       "13339  Medicamento Sujeto A Prescripción Médica. Psic...           NaN   \n",
       "14555  Medicamento Sujeto A Prescripción Médica. Psic...           NaN   \n",
       "14614  Medicamento Sujeto A Prescripción Médica. Psic...           NaN   \n",
       "14644  Medicamento Sujeto A Prescripción Médica. Psic...           NaN   \n",
       "15321  Medicamento Sujeto A Prescripción Médica. Psic...           NaN   \n",
       "15495  Medicamento Sujeto A Prescripción Médica. Psic...           NaN   \n",
       "19396  Medicamento Sujeto A Prescripción Médica. Psic...           NaN   \n",
       "20131  Medicamento Sujeto A Prescripción Médica. Psic...           NaN   \n",
       "20748  Medicamento Sujeto A Prescripción Médica. Psic...           NaN   \n",
       "20749  Medicamento Sujeto A Prescripción Médica. Psic...           NaN   \n",
       "21472  Medicamento Sujeto A Prescripción Médica. Psic...           NaN   \n",
       "21786  Medicamento Sujeto A Prescripción Médica. Psic...           NaN   \n",
       "22468           Medicamento Sujeto A Prescripción Médica           NaN   \n",
       "22504           Medicamento Sujeto A Prescripción Médica           NaN   \n",
       "23748  Medicamento Sujeto A Prescripción Médica. Psic...           NaN   \n",
       "23874  Medicamento Sujeto A Prescripción Médica. Psic...           NaN   \n",
       "24055  Medicamento Sujeto A Prescripción Médica. Psic...           NaN   \n",
       "24056  Medicamento Sujeto A Prescripción Médica. Psic...           NaN   \n",
       "\n",
       "      ¿Afecta conducción? ¿Problemas de suministro?  \n",
       "301                    SI                        NO  \n",
       "573                    SI                        NO  \n",
       "879                    SI                        NO  \n",
       "1072                   SI                        NO  \n",
       "1200                   SI                        NO  \n",
       "2644                   SI                        NO  \n",
       "2676                   SI                        NO  \n",
       "2857                   SI                        NO  \n",
       "3181                   SI                        NO  \n",
       "5368                   SI                        NO  \n",
       "5375                   SI                        NO  \n",
       "5385                   SI                        NO  \n",
       "5386                   SI                        NO  \n",
       "5438                   SI                        NO  \n",
       "5445                   SI                        NO  \n",
       "5450                   SI                        NO  \n",
       "5451                   SI                        NO  \n",
       "5683                   SI                        NO  \n",
       "11566                  SI                        NO  \n",
       "11858                  SI                        NO  \n",
       "12138                  SI                        NO  \n",
       "12368                  SI                        NO  \n",
       "12369                  SI                        NO  \n",
       "12377                  SI                        NO  \n",
       "13334                  SI                        NO  \n",
       "13338                  SI                        NO  \n",
       "13339                  SI                        NO  \n",
       "14555                  SI                        NO  \n",
       "14614                  SI                        NO  \n",
       "14644                  SI                        NO  \n",
       "15321                  SI                        NO  \n",
       "15495                  SI                        NO  \n",
       "19396                  SI                        NO  \n",
       "20131                  SI                        NO  \n",
       "20748                  SI                        NO  \n",
       "20749                  SI                        NO  \n",
       "21472                  SI                        NO  \n",
       "21786                  SI                        NO  \n",
       "22468                  SI                        NO  \n",
       "22504                  SI                        NO  \n",
       "23748                  SI                        NO  \n",
       "23874                  SI                        NO  \n",
       "24055                  SI                        NO  \n",
       "24056                  SI                        NO  "
      ]
     },
     "execution_count": 5,
     "metadata": {},
     "output_type": "execute_result"
    }
   ],
   "source": [
    "# activo = input('Nombre del principio Activo: ')\n",
    "\n",
    "# Filter the DataFrame based on the search word\n",
    "filtered_dfactivo = df_drugs[df_drugs.apply(lambda row: row.astype(str).str.contains(medicamento, case=False).any(), axis=1)]\n",
    "\n",
    "# Display the filtered DataFrame\n",
    "filtered_dfactivo"
   ]
  },
  {
   "cell_type": "code",
   "execution_count": 6,
   "id": "7c77c7d9",
   "metadata": {},
   "outputs": [],
   "source": [
    "filtered_dfactivos2 = df_drugs[df_drugs[\"Medicamento\"].str.contains(medicamento, case=False)]\n",
    "filtered_dfactivos3 = df_drugs[df_drugs[\"Principios Activos\"].str.contains(medicamento, case=False)]"
   ]
  },
  {
   "cell_type": "code",
   "execution_count": 7,
   "id": "f7e83fb4",
   "metadata": {},
   "outputs": [],
   "source": [
    "dfs = pd.concat([filtered_dfactivos2 , filtered_dfactivos3 ])"
   ]
  },
  {
   "cell_type": "code",
   "execution_count": 8,
   "id": "db94373a",
   "metadata": {},
   "outputs": [],
   "source": [
    "# filtered_dfactivos2 = filtered_dfactivos2.reset_index(drop = True)"
   ]
  },
  {
   "cell_type": "code",
   "execution_count": 9,
   "id": "a4f9cab1",
   "metadata": {},
   "outputs": [],
   "source": [
    "detalles = dfs[\"Nº Registro\"]\n",
    "detalles = detalles.reset_index(drop = True)"
   ]
  },
  {
   "cell_type": "code",
   "execution_count": 10,
   "id": "949dc317",
   "metadata": {},
   "outputs": [
    {
     "data": {
      "text/plain": [
       "'80697'"
      ]
     },
     "execution_count": 10,
     "metadata": {},
     "output_type": "execute_result"
    }
   ],
   "source": [
    "detalles[0]"
   ]
  },
  {
   "cell_type": "code",
   "execution_count": 11,
   "id": "8e685154",
   "metadata": {
    "scrolled": false
   },
   "outputs": [
    {
     "data": {
      "text/html": [
       "<img src=\"https://cima.aemps.es/cima/fotos/full/materialas/80697/80697_materialas.jpg\"/>"
      ],
      "text/plain": [
       "<IPython.core.display.Image object>"
      ]
     },
     "metadata": {},
     "output_type": "display_data"
    },
    {
     "data": {
      "text/html": [
       "<img src=\"https://cima.aemps.es/cima/fotos/full/materialas/80696/80696_materialas.jpg\"/>"
      ],
      "text/plain": [
       "<IPython.core.display.Image object>"
      ]
     },
     "metadata": {},
     "output_type": "display_data"
    },
    {
     "data": {
      "text/html": [
       "<img src=\"https://cima.aemps.es/cima/fotos/full/materialas/80702/80702_materialas.jpg\"/>"
      ],
      "text/plain": [
       "<IPython.core.display.Image object>"
      ]
     },
     "metadata": {},
     "output_type": "display_data"
    },
    {
     "data": {
      "text/html": [
       "<img src=\"https://cima.aemps.es/cima/fotos/full/materialas/80699/80699_materialas.jpg\"/>"
      ],
      "text/plain": [
       "<IPython.core.display.Image object>"
      ]
     },
     "metadata": {},
     "output_type": "display_data"
    },
    {
     "data": {
      "text/html": [
       "<img src=\"https://cima.aemps.es/cima/fotos/full/materialas/80703/80703_materialas.jpg\"/>"
      ],
      "text/plain": [
       "<IPython.core.display.Image object>"
      ]
     },
     "metadata": {},
     "output_type": "display_data"
    },
    {
     "data": {
      "text/html": [
       "<img src=\"https://cima.aemps.es/cima/fotos/full/materialas/51208/51208_materialas.jpg\"/>"
      ],
      "text/plain": [
       "<IPython.core.display.Image object>"
      ]
     },
     "metadata": {},
     "output_type": "display_data"
    },
    {
     "data": {
      "text/html": [
       "<img src=\"https://cima.aemps.es/cima/fotos/full/materialas/81275/81275_materialas.jpg\"/>"
      ],
      "text/plain": [
       "<IPython.core.display.Image object>"
      ]
     },
     "metadata": {},
     "output_type": "display_data"
    },
    {
     "data": {
      "text/html": [
       "<img src=\"https://cima.aemps.es/cima/fotos/full/materialas/81514/81514_materialas.jpg\"/>"
      ],
      "text/plain": [
       "<IPython.core.display.Image object>"
      ]
     },
     "metadata": {},
     "output_type": "display_data"
    },
    {
     "data": {
      "text/html": [
       "<img src=\"https://cima.aemps.es/cima/fotos/full/materialas/81515/81515_materialas.jpg\"/>"
      ],
      "text/plain": [
       "<IPython.core.display.Image object>"
      ]
     },
     "metadata": {},
     "output_type": "display_data"
    },
    {
     "data": {
      "text/html": [
       "<img src=\"https://cima.aemps.es/cima/fotos/full/materialas/82224/82224_materialas.jpg\"/>"
      ],
      "text/plain": [
       "<IPython.core.display.Image object>"
      ]
     },
     "metadata": {},
     "output_type": "display_data"
    },
    {
     "data": {
      "text/html": [
       "<img src=\"https://cima.aemps.es/cima/fotos/full/materialas/82223/82223_materialas.jpg\"/>"
      ],
      "text/plain": [
       "<IPython.core.display.Image object>"
      ]
     },
     "metadata": {},
     "output_type": "display_data"
    },
    {
     "data": {
      "text/html": [
       "<img src=\"https://cima.aemps.es/cima/fotos/full/materialas/82225/82225_materialas.jpg\"/>"
      ],
      "text/plain": [
       "<IPython.core.display.Image object>"
      ]
     },
     "metadata": {},
     "output_type": "display_data"
    },
    {
     "data": {
      "text/html": [
       "<img src=\"https://cima.aemps.es/cima/fotos/full/materialas/82872/82872_materialas.jpg\"/>"
      ],
      "text/plain": [
       "<IPython.core.display.Image object>"
      ]
     },
     "metadata": {},
     "output_type": "display_data"
    },
    {
     "data": {
      "text/html": [
       "<img src=\"https://cima.aemps.es/cima/fotos/full/materialas/82873/82873_materialas.jpg\"/>"
      ],
      "text/plain": [
       "<IPython.core.display.Image object>"
      ]
     },
     "metadata": {},
     "output_type": "display_data"
    },
    {
     "data": {
      "text/html": [
       "<img src=\"https://cima.aemps.es/cima/fotos/full/materialas/80698/80698_materialas.jpg\"/>"
      ],
      "text/plain": [
       "<IPython.core.display.Image object>"
      ]
     },
     "metadata": {},
     "output_type": "display_data"
    },
    {
     "data": {
      "text/html": [
       "<img src=\"https://cima.aemps.es/cima/fotos/full/materialas/84530/84530_materialas.jpg\"/>"
      ],
      "text/plain": [
       "<IPython.core.display.Image object>"
      ]
     },
     "metadata": {},
     "output_type": "display_data"
    },
    {
     "data": {
      "text/html": [
       "<img src=\"https://cima.aemps.es/cima/fotos/full/materialas/84945/84945_materialas.jpg\"/>"
      ],
      "text/plain": [
       "<IPython.core.display.Image object>"
      ]
     },
     "metadata": {},
     "output_type": "display_data"
    },
    {
     "data": {
      "text/html": [
       "<img src=\"https://cima.aemps.es/cima/fotos/full/materialas/84946/84946_materialas.jpg\"/>"
      ],
      "text/plain": [
       "<IPython.core.display.Image object>"
      ]
     },
     "metadata": {},
     "output_type": "display_data"
    },
    {
     "data": {
      "text/html": [
       "<img src=\"https://cima.aemps.es/cima/fotos/full/materialas/85969/85969_materialas.jpg\"/>"
      ],
      "text/plain": [
       "<IPython.core.display.Image object>"
      ]
     },
     "metadata": {},
     "output_type": "display_data"
    },
    {
     "data": {
      "text/html": [
       "<img src=\"https://cima.aemps.es/cima/fotos/full/materialas/85979/85979_materialas.jpg\"/>"
      ],
      "text/plain": [
       "<IPython.core.display.Image object>"
      ]
     },
     "metadata": {},
     "output_type": "display_data"
    },
    {
     "data": {
      "text/html": [
       "<img src=\"https://cima.aemps.es/cima/fotos/full/materialas/86114/86114_materialas.jpg\"/>"
      ],
      "text/plain": [
       "<IPython.core.display.Image object>"
      ]
     },
     "metadata": {},
     "output_type": "display_data"
    },
    {
     "data": {
      "text/html": [
       "<img src=\"https://cima.aemps.es/cima/fotos/full/materialas/86113/86113_materialas.jpg\"/>"
      ],
      "text/plain": [
       "<IPython.core.display.Image object>"
      ]
     },
     "metadata": {},
     "output_type": "display_data"
    },
    {
     "data": {
      "text/html": [
       "<img src=\"https://cima.aemps.es/cima/fotos/full/materialas/85968/85968_materialas.jpg\"/>"
      ],
      "text/plain": [
       "<IPython.core.display.Image object>"
      ]
     },
     "metadata": {},
     "output_type": "display_data"
    },
    {
     "data": {
      "text/html": [
       "<img src=\"https://cima.aemps.es/cima/fotos/full/materialas/88091/88091_materialas.jpg\"/>"
      ],
      "text/plain": [
       "<IPython.core.display.Image object>"
      ]
     },
     "metadata": {},
     "output_type": "display_data"
    },
    {
     "data": {
      "text/html": [
       "<img src=\"https://cima.aemps.es/cima/fotos/full/materialas/88092/88092_materialas.jpg\"/>"
      ],
      "text/plain": [
       "<IPython.core.display.Image object>"
      ]
     },
     "metadata": {},
     "output_type": "display_data"
    },
    {
     "data": {
      "text/html": [
       "<img src=\"https://cima.aemps.es/cima/fotos/full/materialas/88090/88090_materialas.jpg\"/>"
      ],
      "text/plain": [
       "<IPython.core.display.Image object>"
      ]
     },
     "metadata": {},
     "output_type": "display_data"
    },
    {
     "data": {
      "text/html": [
       "<img src=\"https://cima.aemps.es/cima/fotos/full/materialas/40960/40960_materialas.jpg\"/>"
      ],
      "text/plain": [
       "<IPython.core.display.Image object>"
      ]
     },
     "metadata": {},
     "output_type": "display_data"
    },
    {
     "data": {
      "text/html": [
       "<img src=\"https://cima.aemps.es/cima/fotos/full/materialas/46050/46050_materialas.jpg\"/>"
      ],
      "text/plain": [
       "<IPython.core.display.Image object>"
      ]
     },
     "metadata": {},
     "output_type": "display_data"
    },
    {
     "data": {
      "text/html": [
       "<img src=\"https://cima.aemps.es/cima/fotos/full/materialas/58000/58000_materialas.jpg\"/>"
      ],
      "text/plain": [
       "<IPython.core.display.Image object>"
      ]
     },
     "metadata": {},
     "output_type": "display_data"
    },
    {
     "data": {
      "text/html": [
       "<img src=\"https://cima.aemps.es/cima/fotos/full/materialas/53295/53295_materialas.jpg\"/>"
      ],
      "text/plain": [
       "<IPython.core.display.Image object>"
      ]
     },
     "metadata": {},
     "output_type": "display_data"
    },
    {
     "data": {
      "text/html": [
       "<img src=\"https://cima.aemps.es/cima/fotos/full/materialas/46993/46993_materialas.jpg\"/>"
      ],
      "text/plain": [
       "<IPython.core.display.Image object>"
      ]
     },
     "metadata": {},
     "output_type": "display_data"
    },
    {
     "data": {
      "text/html": [
       "<img src=\"https://cima.aemps.es/cima/fotos/full/materialas/80697/80697_materialas.jpg\"/>"
      ],
      "text/plain": [
       "<IPython.core.display.Image object>"
      ]
     },
     "metadata": {},
     "output_type": "display_data"
    },
    {
     "data": {
      "text/html": [
       "<img src=\"https://cima.aemps.es/cima/fotos/full/materialas/80696/80696_materialas.jpg\"/>"
      ],
      "text/plain": [
       "<IPython.core.display.Image object>"
      ]
     },
     "metadata": {},
     "output_type": "display_data"
    },
    {
     "data": {
      "text/html": [
       "<img src=\"https://cima.aemps.es/cima/fotos/full/materialas/80702/80702_materialas.jpg\"/>"
      ],
      "text/plain": [
       "<IPython.core.display.Image object>"
      ]
     },
     "metadata": {},
     "output_type": "display_data"
    },
    {
     "data": {
      "text/html": [
       "<img src=\"https://cima.aemps.es/cima/fotos/full/materialas/39501/39501_materialas.jpg\"/>"
      ],
      "text/plain": [
       "<IPython.core.display.Image object>"
      ]
     },
     "metadata": {},
     "output_type": "display_data"
    },
    {
     "data": {
      "text/html": [
       "<img src=\"https://cima.aemps.es/cima/fotos/full/materialas/39692/39692_materialas.jpg\"/>"
      ],
      "text/plain": [
       "<IPython.core.display.Image object>"
      ]
     },
     "metadata": {},
     "output_type": "display_data"
    },
    {
     "data": {
      "text/html": [
       "<img src=\"https://cima.aemps.es/cima/fotos/full/materialas/42003/42003_materialas.jpg\"/>"
      ],
      "text/plain": [
       "<IPython.core.display.Image object>"
      ]
     },
     "metadata": {},
     "output_type": "display_data"
    },
    {
     "data": {
      "text/html": [
       "<img src=\"https://cima.aemps.es/cima/fotos/full/materialas/48242/48242_materialas.jpg\"/>"
      ],
      "text/plain": [
       "<IPython.core.display.Image object>"
      ]
     },
     "metadata": {},
     "output_type": "display_data"
    },
    {
     "data": {
      "text/html": [
       "<img src=\"https://cima.aemps.es/cima/fotos/full/materialas/39693/39693_materialas.jpg\"/>"
      ],
      "text/plain": [
       "<IPython.core.display.Image object>"
      ]
     },
     "metadata": {},
     "output_type": "display_data"
    },
    {
     "data": {
      "text/html": [
       "<img src=\"https://cima.aemps.es/cima/fotos/full/materialas/80699/80699_materialas.jpg\"/>"
      ],
      "text/plain": [
       "<IPython.core.display.Image object>"
      ]
     },
     "metadata": {},
     "output_type": "display_data"
    },
    {
     "data": {
      "text/html": [
       "<img src=\"https://cima.aemps.es/cima/fotos/full/materialas/80703/80703_materialas.jpg\"/>"
      ],
      "text/plain": [
       "<IPython.core.display.Image object>"
      ]
     },
     "metadata": {},
     "output_type": "display_data"
    },
    {
     "data": {
      "text/html": [
       "<img src=\"https://cima.aemps.es/cima/fotos/full/materialas/40959/40959_materialas.jpg\"/>"
      ],
      "text/plain": [
       "<IPython.core.display.Image object>"
      ]
     },
     "metadata": {},
     "output_type": "display_data"
    },
    {
     "data": {
      "text/html": [
       "<img src=\"https://cima.aemps.es/cima/fotos/full/materialas/51208/51208_materialas.jpg\"/>"
      ],
      "text/plain": [
       "<IPython.core.display.Image object>"
      ]
     },
     "metadata": {},
     "output_type": "display_data"
    },
    {
     "data": {
      "text/html": [
       "<img src=\"https://cima.aemps.es/cima/fotos/full/materialas/41598/41598_materialas.jpg\"/>"
      ],
      "text/plain": [
       "<IPython.core.display.Image object>"
      ]
     },
     "metadata": {},
     "output_type": "display_data"
    },
    {
     "data": {
      "text/html": [
       "<img src=\"https://cima.aemps.es/cima/fotos/full/materialas/58001/58001_materialas.jpg\"/>"
      ],
      "text/plain": [
       "<IPython.core.display.Image object>"
      ]
     },
     "metadata": {},
     "output_type": "display_data"
    },
    {
     "data": {
      "text/html": [
       "<img src=\"https://cima.aemps.es/cima/fotos/full/materialas/51519/51519_materialas.jpg\"/>"
      ],
      "text/plain": [
       "<IPython.core.display.Image object>"
      ]
     },
     "metadata": {},
     "output_type": "display_data"
    },
    {
     "data": {
      "text/html": [
       "<img src=\"https://cima.aemps.es/cima/fotos/full/materialas/47356/47356_materialas.jpg\"/>"
      ],
      "text/plain": [
       "<IPython.core.display.Image object>"
      ]
     },
     "metadata": {},
     "output_type": "display_data"
    },
    {
     "data": {
      "text/html": [
       "<img src=\"https://cima.aemps.es/cima/fotos/full/materialas/39409/39409_materialas.jpg\"/>"
      ],
      "text/plain": [
       "<IPython.core.display.Image object>"
      ]
     },
     "metadata": {},
     "output_type": "display_data"
    },
    {
     "data": {
      "text/html": [
       "<img src=\"https://cima.aemps.es/cima/fotos/full/materialas/39943/39943_materialas.jpg\"/>"
      ],
      "text/plain": [
       "<IPython.core.display.Image object>"
      ]
     },
     "metadata": {},
     "output_type": "display_data"
    },
    {
     "data": {
      "text/html": [
       "<img src=\"https://cima.aemps.es/cima/fotos/full/materialas/39905/39905_materialas.jpg\"/>"
      ],
      "text/plain": [
       "<IPython.core.display.Image object>"
      ]
     },
     "metadata": {},
     "output_type": "display_data"
    },
    {
     "data": {
      "text/html": [
       "<img src=\"https://cima.aemps.es/cima/fotos/full/materialas/81275/81275_materialas.jpg\"/>"
      ],
      "text/plain": [
       "<IPython.core.display.Image object>"
      ]
     },
     "metadata": {},
     "output_type": "display_data"
    },
    {
     "data": {
      "text/html": [
       "<img src=\"https://cima.aemps.es/cima/fotos/full/materialas/81514/81514_materialas.jpg\"/>"
      ],
      "text/plain": [
       "<IPython.core.display.Image object>"
      ]
     },
     "metadata": {},
     "output_type": "display_data"
    },
    {
     "data": {
      "text/html": [
       "<img src=\"https://cima.aemps.es/cima/fotos/full/materialas/81515/81515_materialas.jpg\"/>"
      ],
      "text/plain": [
       "<IPython.core.display.Image object>"
      ]
     },
     "metadata": {},
     "output_type": "display_data"
    },
    {
     "data": {
      "text/html": [
       "<img src=\"https://cima.aemps.es/cima/fotos/full/materialas/82224/82224_materialas.jpg\"/>"
      ],
      "text/plain": [
       "<IPython.core.display.Image object>"
      ]
     },
     "metadata": {},
     "output_type": "display_data"
    },
    {
     "data": {
      "text/html": [
       "<img src=\"https://cima.aemps.es/cima/fotos/full/materialas/82223/82223_materialas.jpg\"/>"
      ],
      "text/plain": [
       "<IPython.core.display.Image object>"
      ]
     },
     "metadata": {},
     "output_type": "display_data"
    },
    {
     "data": {
      "text/html": [
       "<img src=\"https://cima.aemps.es/cima/fotos/full/materialas/82225/82225_materialas.jpg\"/>"
      ],
      "text/plain": [
       "<IPython.core.display.Image object>"
      ]
     },
     "metadata": {},
     "output_type": "display_data"
    },
    {
     "data": {
      "text/html": [
       "<img src=\"https://cima.aemps.es/cima/fotos/full/materialas/82872/82872_materialas.jpg\"/>"
      ],
      "text/plain": [
       "<IPython.core.display.Image object>"
      ]
     },
     "metadata": {},
     "output_type": "display_data"
    },
    {
     "data": {
      "text/html": [
       "<img src=\"https://cima.aemps.es/cima/fotos/full/materialas/82873/82873_materialas.jpg\"/>"
      ],
      "text/plain": [
       "<IPython.core.display.Image object>"
      ]
     },
     "metadata": {},
     "output_type": "display_data"
    },
    {
     "data": {
      "text/html": [
       "<img src=\"https://cima.aemps.es/cima/fotos/full/materialas/80698/80698_materialas.jpg\"/>"
      ],
      "text/plain": [
       "<IPython.core.display.Image object>"
      ]
     },
     "metadata": {},
     "output_type": "display_data"
    },
    {
     "data": {
      "text/html": [
       "<img src=\"https://cima.aemps.es/cima/fotos/full/materialas/84530/84530_materialas.jpg\"/>"
      ],
      "text/plain": [
       "<IPython.core.display.Image object>"
      ]
     },
     "metadata": {},
     "output_type": "display_data"
    },
    {
     "data": {
      "text/html": [
       "<img src=\"https://cima.aemps.es/cima/fotos/full/materialas/84945/84945_materialas.jpg\"/>"
      ],
      "text/plain": [
       "<IPython.core.display.Image object>"
      ]
     },
     "metadata": {},
     "output_type": "display_data"
    },
    {
     "data": {
      "text/html": [
       "<img src=\"https://cima.aemps.es/cima/fotos/full/materialas/84946/84946_materialas.jpg\"/>"
      ],
      "text/plain": [
       "<IPython.core.display.Image object>"
      ]
     },
     "metadata": {},
     "output_type": "display_data"
    },
    {
     "data": {
      "text/html": [
       "<img src=\"https://cima.aemps.es/cima/fotos/full/materialas/85969/85969_materialas.jpg\"/>"
      ],
      "text/plain": [
       "<IPython.core.display.Image object>"
      ]
     },
     "metadata": {},
     "output_type": "display_data"
    },
    {
     "data": {
      "text/html": [
       "<img src=\"https://cima.aemps.es/cima/fotos/full/materialas/85979/85979_materialas.jpg\"/>"
      ],
      "text/plain": [
       "<IPython.core.display.Image object>"
      ]
     },
     "metadata": {},
     "output_type": "display_data"
    },
    {
     "data": {
      "text/html": [
       "<img src=\"https://cima.aemps.es/cima/fotos/full/materialas/86114/86114_materialas.jpg\"/>"
      ],
      "text/plain": [
       "<IPython.core.display.Image object>"
      ]
     },
     "metadata": {},
     "output_type": "display_data"
    },
    {
     "data": {
      "text/html": [
       "<img src=\"https://cima.aemps.es/cima/fotos/full/materialas/86113/86113_materialas.jpg\"/>"
      ],
      "text/plain": [
       "<IPython.core.display.Image object>"
      ]
     },
     "metadata": {},
     "output_type": "display_data"
    },
    {
     "data": {
      "text/html": [
       "<img src=\"https://cima.aemps.es/cima/fotos/full/materialas/85968/85968_materialas.jpg\"/>"
      ],
      "text/plain": [
       "<IPython.core.display.Image object>"
      ]
     },
     "metadata": {},
     "output_type": "display_data"
    },
    {
     "data": {
      "text/html": [
       "<img src=\"https://cima.aemps.es/cima/fotos/full/materialas/88091/88091_materialas.jpg\"/>"
      ],
      "text/plain": [
       "<IPython.core.display.Image object>"
      ]
     },
     "metadata": {},
     "output_type": "display_data"
    },
    {
     "data": {
      "text/html": [
       "<img src=\"https://cima.aemps.es/cima/fotos/full/materialas/88092/88092_materialas.jpg\"/>"
      ],
      "text/plain": [
       "<IPython.core.display.Image object>"
      ]
     },
     "metadata": {},
     "output_type": "display_data"
    },
    {
     "data": {
      "text/html": [
       "<img src=\"https://cima.aemps.es/cima/fotos/full/materialas/88090/88090_materialas.jpg\"/>"
      ],
      "text/plain": [
       "<IPython.core.display.Image object>"
      ]
     },
     "metadata": {},
     "output_type": "display_data"
    },
    {
     "data": {
      "text/html": [
       "<div>\n",
       "<style scoped>\n",
       "    .dataframe tbody tr th:only-of-type {\n",
       "        vertical-align: middle;\n",
       "    }\n",
       "\n",
       "    .dataframe tbody tr th {\n",
       "        vertical-align: top;\n",
       "    }\n",
       "\n",
       "    .dataframe thead th {\n",
       "        text-align: right;\n",
       "    }\n",
       "</style>\n",
       "<table border=\"1\" class=\"dataframe\">\n",
       "  <thead>\n",
       "    <tr style=\"text-align: right;\">\n",
       "      <th></th>\n",
       "      <th>Nº Registro</th>\n",
       "      <th>Medicamento</th>\n",
       "      <th>Laboratorio</th>\n",
       "      <th>Fecha Aut.</th>\n",
       "      <th>Estado</th>\n",
       "      <th>Fecha Estado</th>\n",
       "      <th>Cód. ATC</th>\n",
       "      <th>Principios Activos</th>\n",
       "      <th>Nº P. Activos</th>\n",
       "      <th>¿Comercializado?</th>\n",
       "      <th>¿Triangulo Amarillo?</th>\n",
       "      <th>Observaciones</th>\n",
       "      <th>¿Sustituible?</th>\n",
       "      <th>¿Afecta conducción?</th>\n",
       "      <th>¿Problemas de suministro?</th>\n",
       "    </tr>\n",
       "  </thead>\n",
       "  <tbody>\n",
       "    <tr>\n",
       "      <th>2644</th>\n",
       "      <td>80697</td>\n",
       "      <td>DIAZEPAM STADA 10 MG COMPRIMIDOS EFG</td>\n",
       "      <td>Laboratorio Stada, S.L.</td>\n",
       "      <td>26/02/2016</td>\n",
       "      <td>Autorizado</td>\n",
       "      <td>26/02/2016</td>\n",
       "      <td>N05BA01</td>\n",
       "      <td>DIAZEPAM</td>\n",
       "      <td>1</td>\n",
       "      <td>SI</td>\n",
       "      <td>NO</td>\n",
       "      <td>Medicamento Sujeto A Prescripción Médica. Psic...</td>\n",
       "      <td>NaN</td>\n",
       "      <td>SI</td>\n",
       "      <td>NO</td>\n",
       "    </tr>\n",
       "    <tr>\n",
       "      <th>2676</th>\n",
       "      <td>80696</td>\n",
       "      <td>DIAZEPAM STADA 5 MG COMPRIMIDOS EFG</td>\n",
       "      <td>Laboratorio Stada, S.L.</td>\n",
       "      <td>26/02/2016</td>\n",
       "      <td>Autorizado</td>\n",
       "      <td>26/02/2016</td>\n",
       "      <td>N05BA01</td>\n",
       "      <td>DIAZEPAM</td>\n",
       "      <td>1</td>\n",
       "      <td>SI</td>\n",
       "      <td>NO</td>\n",
       "      <td>Medicamento Sujeto A Prescripción Médica. Psic...</td>\n",
       "      <td>NaN</td>\n",
       "      <td>SI</td>\n",
       "      <td>NO</td>\n",
       "    </tr>\n",
       "    <tr>\n",
       "      <th>2857</th>\n",
       "      <td>80702</td>\n",
       "      <td>DIAZEPAM QUALIGEN 5 MG COMPRIMIDOS EFG</td>\n",
       "      <td>Neuraxpharm Spain, S.L.U.</td>\n",
       "      <td>02/03/2016</td>\n",
       "      <td>Autorizado</td>\n",
       "      <td>02/03/2016</td>\n",
       "      <td>N05BA01</td>\n",
       "      <td>DIAZEPAM</td>\n",
       "      <td>1</td>\n",
       "      <td>SI</td>\n",
       "      <td>NO</td>\n",
       "      <td>Medicamento Sujeto A Prescripción Médica. Psic...</td>\n",
       "      <td>NaN</td>\n",
       "      <td>SI</td>\n",
       "      <td>NO</td>\n",
       "    </tr>\n",
       "    <tr>\n",
       "      <th>5438</th>\n",
       "      <td>80699</td>\n",
       "      <td>DIAZEPAM CINFA 10 MG COMPRIMIDOS EFG</td>\n",
       "      <td>Laboratorios Cinfa, S.A.</td>\n",
       "      <td>26/02/2016</td>\n",
       "      <td>Autorizado</td>\n",
       "      <td>26/02/2016</td>\n",
       "      <td>N05BA01</td>\n",
       "      <td>DIAZEPAM</td>\n",
       "      <td>1</td>\n",
       "      <td>SI</td>\n",
       "      <td>NO</td>\n",
       "      <td>Medicamento Sujeto A Prescripción Médica. Psic...</td>\n",
       "      <td>NaN</td>\n",
       "      <td>SI</td>\n",
       "      <td>NO</td>\n",
       "    </tr>\n",
       "    <tr>\n",
       "      <th>5445</th>\n",
       "      <td>80703</td>\n",
       "      <td>DIAZEPAM QUALIGEN 10 MG COMPRIMIDOS EFG</td>\n",
       "      <td>Neuraxpharm Spain, S.L.U.</td>\n",
       "      <td>02/03/2016</td>\n",
       "      <td>Autorizado</td>\n",
       "      <td>02/03/2016</td>\n",
       "      <td>N05BA01</td>\n",
       "      <td>DIAZEPAM</td>\n",
       "      <td>1</td>\n",
       "      <td>SI</td>\n",
       "      <td>NO</td>\n",
       "      <td>Medicamento Sujeto A Prescripción Médica. Psic...</td>\n",
       "      <td>NaN</td>\n",
       "      <td>SI</td>\n",
       "      <td>NO</td>\n",
       "    </tr>\n",
       "    <tr>\n",
       "      <th>5451</th>\n",
       "      <td>51208</td>\n",
       "      <td>DIAZEPAM NORMON 5 mg COMPRIMIDOS</td>\n",
       "      <td>Laboratorios Normon, S.A.</td>\n",
       "      <td>01/05/1973</td>\n",
       "      <td>Autorizado</td>\n",
       "      <td>01/05/1973</td>\n",
       "      <td>N05BA01</td>\n",
       "      <td>DIAZEPAM</td>\n",
       "      <td>1</td>\n",
       "      <td>SI</td>\n",
       "      <td>NO</td>\n",
       "      <td>Medicamento Sujeto A Prescripción Médica. Psic...</td>\n",
       "      <td>NaN</td>\n",
       "      <td>SI</td>\n",
       "      <td>NO</td>\n",
       "    </tr>\n",
       "    <tr>\n",
       "      <th>13334</th>\n",
       "      <td>81275</td>\n",
       "      <td>DIAZEPAM BLUEFISH 5 MG COMPRIMIDOS EFG</td>\n",
       "      <td>Bluefish Pharmaceuticals Ab</td>\n",
       "      <td>06/10/2016</td>\n",
       "      <td>Autorizado</td>\n",
       "      <td>07/10/2016</td>\n",
       "      <td>N05BA01</td>\n",
       "      <td>DIAZEPAM</td>\n",
       "      <td>1</td>\n",
       "      <td>SI</td>\n",
       "      <td>NO</td>\n",
       "      <td>Medicamento Sujeto A Prescripción Médica. Psic...</td>\n",
       "      <td>NaN</td>\n",
       "      <td>SI</td>\n",
       "      <td>NO</td>\n",
       "    </tr>\n",
       "    <tr>\n",
       "      <th>13338</th>\n",
       "      <td>81514</td>\n",
       "      <td>DIAZEPAM AUROVITAS SPAIN 5 MG COMPRIMIDOS EFG</td>\n",
       "      <td>Aurovitas Spain, S.A.U.</td>\n",
       "      <td>13/12/2016</td>\n",
       "      <td>Autorizado</td>\n",
       "      <td>14/12/2016</td>\n",
       "      <td>N05BA01</td>\n",
       "      <td>DIAZEPAM</td>\n",
       "      <td>1</td>\n",
       "      <td>SI</td>\n",
       "      <td>NO</td>\n",
       "      <td>Medicamento Sujeto A Prescripción Médica. Psic...</td>\n",
       "      <td>NaN</td>\n",
       "      <td>SI</td>\n",
       "      <td>NO</td>\n",
       "    </tr>\n",
       "    <tr>\n",
       "      <th>13339</th>\n",
       "      <td>81515</td>\n",
       "      <td>DIAZEPAM AUROVITAS SPAIN 10 MG COMPRIMIDOS EFG</td>\n",
       "      <td>Aurovitas Spain, S.A.U.</td>\n",
       "      <td>13/12/2016</td>\n",
       "      <td>Autorizado</td>\n",
       "      <td>14/12/2016</td>\n",
       "      <td>N05BA01</td>\n",
       "      <td>DIAZEPAM</td>\n",
       "      <td>1</td>\n",
       "      <td>SI</td>\n",
       "      <td>NO</td>\n",
       "      <td>Medicamento Sujeto A Prescripción Médica. Psic...</td>\n",
       "      <td>NaN</td>\n",
       "      <td>SI</td>\n",
       "      <td>NO</td>\n",
       "    </tr>\n",
       "    <tr>\n",
       "      <th>14555</th>\n",
       "      <td>82224</td>\n",
       "      <td>DIAZEPAM VIR 2 MG COMPRIMIDOS EFG</td>\n",
       "      <td>Industria Quimica Y Farmaceutica Vir, S.A.</td>\n",
       "      <td>06/07/2017</td>\n",
       "      <td>Autorizado</td>\n",
       "      <td>07/07/2017</td>\n",
       "      <td>N05BA01</td>\n",
       "      <td>DIAZEPAM</td>\n",
       "      <td>1</td>\n",
       "      <td>SI</td>\n",
       "      <td>NO</td>\n",
       "      <td>Medicamento Sujeto A Prescripción Médica. Psic...</td>\n",
       "      <td>NaN</td>\n",
       "      <td>SI</td>\n",
       "      <td>NO</td>\n",
       "    </tr>\n",
       "    <tr>\n",
       "      <th>14614</th>\n",
       "      <td>82223</td>\n",
       "      <td>DIAZEPAM VIR 10 MG COMPRIMIDOS EFG</td>\n",
       "      <td>Industria Quimica Y Farmaceutica Vir, S.A.</td>\n",
       "      <td>06/07/2017</td>\n",
       "      <td>Autorizado</td>\n",
       "      <td>07/07/2017</td>\n",
       "      <td>N05BA01</td>\n",
       "      <td>DIAZEPAM</td>\n",
       "      <td>1</td>\n",
       "      <td>SI</td>\n",
       "      <td>NO</td>\n",
       "      <td>Medicamento Sujeto A Prescripción Médica. Psic...</td>\n",
       "      <td>NaN</td>\n",
       "      <td>SI</td>\n",
       "      <td>NO</td>\n",
       "    </tr>\n",
       "    <tr>\n",
       "      <th>14644</th>\n",
       "      <td>82225</td>\n",
       "      <td>DIAZEPAM VIR 5 MG COMPRIMIDOS EFG</td>\n",
       "      <td>Industria Quimica Y Farmaceutica Vir, S.A.</td>\n",
       "      <td>06/07/2017</td>\n",
       "      <td>Autorizado</td>\n",
       "      <td>07/07/2017</td>\n",
       "      <td>N05BA01</td>\n",
       "      <td>DIAZEPAM</td>\n",
       "      <td>1</td>\n",
       "      <td>SI</td>\n",
       "      <td>NO</td>\n",
       "      <td>Medicamento Sujeto A Prescripción Médica. Psic...</td>\n",
       "      <td>NaN</td>\n",
       "      <td>SI</td>\n",
       "      <td>NO</td>\n",
       "    </tr>\n",
       "    <tr>\n",
       "      <th>15321</th>\n",
       "      <td>82872</td>\n",
       "      <td>DIAZEPAM DURBAN 10 MG COMPRIMIDOS EFG</td>\n",
       "      <td>Laboratorios Francisco Durban, S.A.</td>\n",
       "      <td>16/02/2018</td>\n",
       "      <td>Autorizado</td>\n",
       "      <td>17/02/2018</td>\n",
       "      <td>N05BA01</td>\n",
       "      <td>DIAZEPAM</td>\n",
       "      <td>1</td>\n",
       "      <td>SI</td>\n",
       "      <td>NO</td>\n",
       "      <td>Medicamento Sujeto A Prescripción Médica. Psic...</td>\n",
       "      <td>NaN</td>\n",
       "      <td>SI</td>\n",
       "      <td>NO</td>\n",
       "    </tr>\n",
       "    <tr>\n",
       "      <th>15495</th>\n",
       "      <td>82873</td>\n",
       "      <td>DIAZEPAM DURBAN 5 MG COMPRIMIDOS EFG</td>\n",
       "      <td>Laboratorios Francisco Durban, S.A.</td>\n",
       "      <td>16/02/2018</td>\n",
       "      <td>Autorizado</td>\n",
       "      <td>17/02/2018</td>\n",
       "      <td>N05BA01</td>\n",
       "      <td>DIAZEPAM</td>\n",
       "      <td>1</td>\n",
       "      <td>SI</td>\n",
       "      <td>NO</td>\n",
       "      <td>Medicamento Sujeto A Prescripción Médica. Psic...</td>\n",
       "      <td>NaN</td>\n",
       "      <td>SI</td>\n",
       "      <td>NO</td>\n",
       "    </tr>\n",
       "    <tr>\n",
       "      <th>19396</th>\n",
       "      <td>80698</td>\n",
       "      <td>DIAZEPAM CINFA 5 MG COMPRIMIDOS EFG</td>\n",
       "      <td>Laboratorios Cinfa, S.A.</td>\n",
       "      <td>26/02/2016</td>\n",
       "      <td>Autorizado</td>\n",
       "      <td>26/02/2016</td>\n",
       "      <td>N05BA01</td>\n",
       "      <td>DIAZEPAM</td>\n",
       "      <td>1</td>\n",
       "      <td>SI</td>\n",
       "      <td>NO</td>\n",
       "      <td>Medicamento Sujeto A Prescripción Médica. Psic...</td>\n",
       "      <td>NaN</td>\n",
       "      <td>SI</td>\n",
       "      <td>NO</td>\n",
       "    </tr>\n",
       "    <tr>\n",
       "      <th>20131</th>\n",
       "      <td>84530</td>\n",
       "      <td>DIAZEPAM GRINDEKS 5 MG COMPRIMIDOS EFG</td>\n",
       "      <td>As Grindeks</td>\n",
       "      <td>10/10/2019</td>\n",
       "      <td>Autorizado</td>\n",
       "      <td>11/10/2019</td>\n",
       "      <td>N05BA01</td>\n",
       "      <td>DIAZEPAM</td>\n",
       "      <td>1</td>\n",
       "      <td>NO</td>\n",
       "      <td>NO</td>\n",
       "      <td>Medicamento Sujeto A Prescripción Médica. Psic...</td>\n",
       "      <td>NaN</td>\n",
       "      <td>SI</td>\n",
       "      <td>NO</td>\n",
       "    </tr>\n",
       "    <tr>\n",
       "      <th>20748</th>\n",
       "      <td>84945</td>\n",
       "      <td>DIAZEPAM LESVI 10 MG COMPRIMIDOS EFG</td>\n",
       "      <td>Laboratorios Lesvi, S.L.</td>\n",
       "      <td>10/03/2020</td>\n",
       "      <td>Anulado</td>\n",
       "      <td>02/08/2021</td>\n",
       "      <td>N05BA01</td>\n",
       "      <td>DIAZEPAM</td>\n",
       "      <td>1</td>\n",
       "      <td>NO</td>\n",
       "      <td>NO</td>\n",
       "      <td>Medicamento Sujeto A Prescripción Médica. Psic...</td>\n",
       "      <td>NaN</td>\n",
       "      <td>SI</td>\n",
       "      <td>NO</td>\n",
       "    </tr>\n",
       "    <tr>\n",
       "      <th>20749</th>\n",
       "      <td>84946</td>\n",
       "      <td>DIAZEPAM LESVI 5 MG COMPRIMIDOS EFG</td>\n",
       "      <td>Laboratorios Lesvi, S.L.</td>\n",
       "      <td>10/03/2020</td>\n",
       "      <td>Anulado</td>\n",
       "      <td>02/08/2021</td>\n",
       "      <td>N05BA01</td>\n",
       "      <td>DIAZEPAM</td>\n",
       "      <td>1</td>\n",
       "      <td>NO</td>\n",
       "      <td>NO</td>\n",
       "      <td>Medicamento Sujeto A Prescripción Médica. Psic...</td>\n",
       "      <td>NaN</td>\n",
       "      <td>SI</td>\n",
       "      <td>NO</td>\n",
       "    </tr>\n",
       "    <tr>\n",
       "      <th>21472</th>\n",
       "      <td>85969</td>\n",
       "      <td>DIAZEPAM NORMON 10 MG COMPRIMIDOS EFG</td>\n",
       "      <td>Laboratorios Normon, S.A.</td>\n",
       "      <td>16/05/2021</td>\n",
       "      <td>Autorizado</td>\n",
       "      <td>18/05/2021</td>\n",
       "      <td>N05BA01</td>\n",
       "      <td>DIAZEPAM</td>\n",
       "      <td>1</td>\n",
       "      <td>SI</td>\n",
       "      <td>NO</td>\n",
       "      <td>Medicamento Sujeto A Prescripción Médica. Psic...</td>\n",
       "      <td>NaN</td>\n",
       "      <td>SI</td>\n",
       "      <td>NO</td>\n",
       "    </tr>\n",
       "    <tr>\n",
       "      <th>21786</th>\n",
       "      <td>85979</td>\n",
       "      <td>DIAZEPAM NORMOGEN 5 MG COMPRIMIDOS EFG</td>\n",
       "      <td>Laboratorios Normon, S.A.</td>\n",
       "      <td>24/05/2021</td>\n",
       "      <td>Autorizado</td>\n",
       "      <td>25/05/2021</td>\n",
       "      <td>N05BA01</td>\n",
       "      <td>DIAZEPAM</td>\n",
       "      <td>1</td>\n",
       "      <td>SI</td>\n",
       "      <td>NO</td>\n",
       "      <td>Medicamento Sujeto A Prescripción Médica. Psic...</td>\n",
       "      <td>NaN</td>\n",
       "      <td>SI</td>\n",
       "      <td>NO</td>\n",
       "    </tr>\n",
       "    <tr>\n",
       "      <th>22468</th>\n",
       "      <td>86114</td>\n",
       "      <td>DIAZEPAM ARISTO 10 MG COMPRIMIDOS EFG</td>\n",
       "      <td>Aristo Pharma Iberia, S.L</td>\n",
       "      <td>30/07/2021</td>\n",
       "      <td>Autorizado</td>\n",
       "      <td>31/07/2021</td>\n",
       "      <td>N05BA01</td>\n",
       "      <td>DIAZEPAM</td>\n",
       "      <td>1</td>\n",
       "      <td>NO</td>\n",
       "      <td>NO</td>\n",
       "      <td>Medicamento Sujeto A Prescripción Médica</td>\n",
       "      <td>NaN</td>\n",
       "      <td>SI</td>\n",
       "      <td>NO</td>\n",
       "    </tr>\n",
       "    <tr>\n",
       "      <th>22504</th>\n",
       "      <td>86113</td>\n",
       "      <td>DIAZEPAM ARISTO 5 MG COMPRIMIDOS EFG</td>\n",
       "      <td>Aristo Pharma Iberia, S.L</td>\n",
       "      <td>30/07/2021</td>\n",
       "      <td>Autorizado</td>\n",
       "      <td>31/07/2021</td>\n",
       "      <td>N05BA01</td>\n",
       "      <td>DIAZEPAM</td>\n",
       "      <td>1</td>\n",
       "      <td>NO</td>\n",
       "      <td>NO</td>\n",
       "      <td>Medicamento Sujeto A Prescripción Médica</td>\n",
       "      <td>NaN</td>\n",
       "      <td>SI</td>\n",
       "      <td>NO</td>\n",
       "    </tr>\n",
       "    <tr>\n",
       "      <th>23748</th>\n",
       "      <td>85968</td>\n",
       "      <td>DIAZEPAM NORMON 2,5 MG COMPRIMIDOS</td>\n",
       "      <td>Laboratorios Normon, S.A.</td>\n",
       "      <td>16/05/2021</td>\n",
       "      <td>Autorizado</td>\n",
       "      <td>18/05/2021</td>\n",
       "      <td>N05BA01</td>\n",
       "      <td>DIAZEPAM</td>\n",
       "      <td>1</td>\n",
       "      <td>SI</td>\n",
       "      <td>NO</td>\n",
       "      <td>Medicamento Sujeto A Prescripción Médica. Psic...</td>\n",
       "      <td>NaN</td>\n",
       "      <td>SI</td>\n",
       "      <td>NO</td>\n",
       "    </tr>\n",
       "    <tr>\n",
       "      <th>23874</th>\n",
       "      <td>88091</td>\n",
       "      <td>DIAZEPAM PENSA 10 MG COMPRIMIDOS EFG</td>\n",
       "      <td>Towa Pharmaceutical S.A.</td>\n",
       "      <td>16/09/2022</td>\n",
       "      <td>Autorizado</td>\n",
       "      <td>17/09/2022</td>\n",
       "      <td>N05BA01</td>\n",
       "      <td>DIAZEPAM</td>\n",
       "      <td>1</td>\n",
       "      <td>NO</td>\n",
       "      <td>NO</td>\n",
       "      <td>Medicamento Sujeto A Prescripción Médica. Psic...</td>\n",
       "      <td>NaN</td>\n",
       "      <td>SI</td>\n",
       "      <td>NO</td>\n",
       "    </tr>\n",
       "    <tr>\n",
       "      <th>24055</th>\n",
       "      <td>88092</td>\n",
       "      <td>DIAZEPAM PENSA 2,5 MG COMPRIMIDOS</td>\n",
       "      <td>Towa Pharmaceutical S.A.</td>\n",
       "      <td>16/09/2022</td>\n",
       "      <td>Autorizado</td>\n",
       "      <td>17/09/2022</td>\n",
       "      <td>N05BA01</td>\n",
       "      <td>DIAZEPAM</td>\n",
       "      <td>1</td>\n",
       "      <td>NO</td>\n",
       "      <td>NO</td>\n",
       "      <td>Medicamento Sujeto A Prescripción Médica. Psic...</td>\n",
       "      <td>NaN</td>\n",
       "      <td>SI</td>\n",
       "      <td>NO</td>\n",
       "    </tr>\n",
       "    <tr>\n",
       "      <th>24056</th>\n",
       "      <td>88090</td>\n",
       "      <td>DIAZEPAM PENSA 5 MG COMPRIMIDOS EFG</td>\n",
       "      <td>Towa Pharmaceutical S.A.</td>\n",
       "      <td>16/09/2022</td>\n",
       "      <td>Autorizado</td>\n",
       "      <td>17/09/2022</td>\n",
       "      <td>N05BA01</td>\n",
       "      <td>DIAZEPAM</td>\n",
       "      <td>1</td>\n",
       "      <td>NO</td>\n",
       "      <td>NO</td>\n",
       "      <td>Medicamento Sujeto A Prescripción Médica. Psic...</td>\n",
       "      <td>NaN</td>\n",
       "      <td>SI</td>\n",
       "      <td>NO</td>\n",
       "    </tr>\n",
       "  </tbody>\n",
       "</table>\n",
       "</div>"
      ],
      "text/plain": [
       "      Nº Registro                                     Medicamento  \\\n",
       "2644        80697            DIAZEPAM STADA 10 MG COMPRIMIDOS EFG   \n",
       "2676        80696             DIAZEPAM STADA 5 MG COMPRIMIDOS EFG   \n",
       "2857        80702          DIAZEPAM QUALIGEN 5 MG COMPRIMIDOS EFG   \n",
       "5438        80699            DIAZEPAM CINFA 10 MG COMPRIMIDOS EFG   \n",
       "5445        80703         DIAZEPAM QUALIGEN 10 MG COMPRIMIDOS EFG   \n",
       "5451        51208                DIAZEPAM NORMON 5 mg COMPRIMIDOS   \n",
       "13334       81275          DIAZEPAM BLUEFISH 5 MG COMPRIMIDOS EFG   \n",
       "13338       81514   DIAZEPAM AUROVITAS SPAIN 5 MG COMPRIMIDOS EFG   \n",
       "13339       81515  DIAZEPAM AUROVITAS SPAIN 10 MG COMPRIMIDOS EFG   \n",
       "14555       82224               DIAZEPAM VIR 2 MG COMPRIMIDOS EFG   \n",
       "14614       82223              DIAZEPAM VIR 10 MG COMPRIMIDOS EFG   \n",
       "14644       82225               DIAZEPAM VIR 5 MG COMPRIMIDOS EFG   \n",
       "15321       82872           DIAZEPAM DURBAN 10 MG COMPRIMIDOS EFG   \n",
       "15495       82873            DIAZEPAM DURBAN 5 MG COMPRIMIDOS EFG   \n",
       "19396       80698             DIAZEPAM CINFA 5 MG COMPRIMIDOS EFG   \n",
       "20131       84530          DIAZEPAM GRINDEKS 5 MG COMPRIMIDOS EFG   \n",
       "20748       84945            DIAZEPAM LESVI 10 MG COMPRIMIDOS EFG   \n",
       "20749       84946             DIAZEPAM LESVI 5 MG COMPRIMIDOS EFG   \n",
       "21472       85969           DIAZEPAM NORMON 10 MG COMPRIMIDOS EFG   \n",
       "21786       85979          DIAZEPAM NORMOGEN 5 MG COMPRIMIDOS EFG   \n",
       "22468       86114           DIAZEPAM ARISTO 10 MG COMPRIMIDOS EFG   \n",
       "22504       86113            DIAZEPAM ARISTO 5 MG COMPRIMIDOS EFG   \n",
       "23748       85968              DIAZEPAM NORMON 2,5 MG COMPRIMIDOS   \n",
       "23874       88091            DIAZEPAM PENSA 10 MG COMPRIMIDOS EFG   \n",
       "24055       88092               DIAZEPAM PENSA 2,5 MG COMPRIMIDOS   \n",
       "24056       88090             DIAZEPAM PENSA 5 MG COMPRIMIDOS EFG   \n",
       "\n",
       "                                      Laboratorio  Fecha Aut.      Estado  \\\n",
       "2644                      Laboratorio Stada, S.L.  26/02/2016  Autorizado   \n",
       "2676                      Laboratorio Stada, S.L.  26/02/2016  Autorizado   \n",
       "2857                    Neuraxpharm Spain, S.L.U.  02/03/2016  Autorizado   \n",
       "5438                     Laboratorios Cinfa, S.A.  26/02/2016  Autorizado   \n",
       "5445                    Neuraxpharm Spain, S.L.U.  02/03/2016  Autorizado   \n",
       "5451                    Laboratorios Normon, S.A.  01/05/1973  Autorizado   \n",
       "13334                 Bluefish Pharmaceuticals Ab  06/10/2016  Autorizado   \n",
       "13338                     Aurovitas Spain, S.A.U.  13/12/2016  Autorizado   \n",
       "13339                     Aurovitas Spain, S.A.U.  13/12/2016  Autorizado   \n",
       "14555  Industria Quimica Y Farmaceutica Vir, S.A.  06/07/2017  Autorizado   \n",
       "14614  Industria Quimica Y Farmaceutica Vir, S.A.  06/07/2017  Autorizado   \n",
       "14644  Industria Quimica Y Farmaceutica Vir, S.A.  06/07/2017  Autorizado   \n",
       "15321         Laboratorios Francisco Durban, S.A.  16/02/2018  Autorizado   \n",
       "15495         Laboratorios Francisco Durban, S.A.  16/02/2018  Autorizado   \n",
       "19396                    Laboratorios Cinfa, S.A.  26/02/2016  Autorizado   \n",
       "20131                                 As Grindeks  10/10/2019  Autorizado   \n",
       "20748                    Laboratorios Lesvi, S.L.  10/03/2020     Anulado   \n",
       "20749                    Laboratorios Lesvi, S.L.  10/03/2020     Anulado   \n",
       "21472                   Laboratorios Normon, S.A.  16/05/2021  Autorizado   \n",
       "21786                   Laboratorios Normon, S.A.  24/05/2021  Autorizado   \n",
       "22468                   Aristo Pharma Iberia, S.L  30/07/2021  Autorizado   \n",
       "22504                   Aristo Pharma Iberia, S.L  30/07/2021  Autorizado   \n",
       "23748                   Laboratorios Normon, S.A.  16/05/2021  Autorizado   \n",
       "23874                    Towa Pharmaceutical S.A.  16/09/2022  Autorizado   \n",
       "24055                    Towa Pharmaceutical S.A.  16/09/2022  Autorizado   \n",
       "24056                    Towa Pharmaceutical S.A.  16/09/2022  Autorizado   \n",
       "\n",
       "      Fecha Estado Cód. ATC Principios Activos  Nº P. Activos  \\\n",
       "2644    26/02/2016  N05BA01           DIAZEPAM              1   \n",
       "2676    26/02/2016  N05BA01           DIAZEPAM              1   \n",
       "2857    02/03/2016  N05BA01           DIAZEPAM              1   \n",
       "5438    26/02/2016  N05BA01           DIAZEPAM              1   \n",
       "5445    02/03/2016  N05BA01           DIAZEPAM              1   \n",
       "5451    01/05/1973  N05BA01           DIAZEPAM              1   \n",
       "13334   07/10/2016  N05BA01           DIAZEPAM              1   \n",
       "13338   14/12/2016  N05BA01           DIAZEPAM              1   \n",
       "13339   14/12/2016  N05BA01           DIAZEPAM              1   \n",
       "14555   07/07/2017  N05BA01           DIAZEPAM              1   \n",
       "14614   07/07/2017  N05BA01           DIAZEPAM              1   \n",
       "14644   07/07/2017  N05BA01           DIAZEPAM              1   \n",
       "15321   17/02/2018  N05BA01           DIAZEPAM              1   \n",
       "15495   17/02/2018  N05BA01           DIAZEPAM              1   \n",
       "19396   26/02/2016  N05BA01           DIAZEPAM              1   \n",
       "20131   11/10/2019  N05BA01           DIAZEPAM              1   \n",
       "20748   02/08/2021  N05BA01           DIAZEPAM              1   \n",
       "20749   02/08/2021  N05BA01           DIAZEPAM              1   \n",
       "21472   18/05/2021  N05BA01           DIAZEPAM              1   \n",
       "21786   25/05/2021  N05BA01           DIAZEPAM              1   \n",
       "22468   31/07/2021  N05BA01           DIAZEPAM              1   \n",
       "22504   31/07/2021  N05BA01           DIAZEPAM              1   \n",
       "23748   18/05/2021  N05BA01           DIAZEPAM              1   \n",
       "23874   17/09/2022  N05BA01           DIAZEPAM              1   \n",
       "24055   17/09/2022  N05BA01           DIAZEPAM              1   \n",
       "24056   17/09/2022  N05BA01           DIAZEPAM              1   \n",
       "\n",
       "      ¿Comercializado? ¿Triangulo Amarillo?  \\\n",
       "2644                SI                   NO   \n",
       "2676                SI                   NO   \n",
       "2857                SI                   NO   \n",
       "5438                SI                   NO   \n",
       "5445                SI                   NO   \n",
       "5451                SI                   NO   \n",
       "13334               SI                   NO   \n",
       "13338               SI                   NO   \n",
       "13339               SI                   NO   \n",
       "14555               SI                   NO   \n",
       "14614               SI                   NO   \n",
       "14644               SI                   NO   \n",
       "15321               SI                   NO   \n",
       "15495               SI                   NO   \n",
       "19396               SI                   NO   \n",
       "20131               NO                   NO   \n",
       "20748               NO                   NO   \n",
       "20749               NO                   NO   \n",
       "21472               SI                   NO   \n",
       "21786               SI                   NO   \n",
       "22468               NO                   NO   \n",
       "22504               NO                   NO   \n",
       "23748               SI                   NO   \n",
       "23874               NO                   NO   \n",
       "24055               NO                   NO   \n",
       "24056               NO                   NO   \n",
       "\n",
       "                                           Observaciones ¿Sustituible?  \\\n",
       "2644   Medicamento Sujeto A Prescripción Médica. Psic...           NaN   \n",
       "2676   Medicamento Sujeto A Prescripción Médica. Psic...           NaN   \n",
       "2857   Medicamento Sujeto A Prescripción Médica. Psic...           NaN   \n",
       "5438   Medicamento Sujeto A Prescripción Médica. Psic...           NaN   \n",
       "5445   Medicamento Sujeto A Prescripción Médica. Psic...           NaN   \n",
       "5451   Medicamento Sujeto A Prescripción Médica. Psic...           NaN   \n",
       "13334  Medicamento Sujeto A Prescripción Médica. Psic...           NaN   \n",
       "13338  Medicamento Sujeto A Prescripción Médica. Psic...           NaN   \n",
       "13339  Medicamento Sujeto A Prescripción Médica. Psic...           NaN   \n",
       "14555  Medicamento Sujeto A Prescripción Médica. Psic...           NaN   \n",
       "14614  Medicamento Sujeto A Prescripción Médica. Psic...           NaN   \n",
       "14644  Medicamento Sujeto A Prescripción Médica. Psic...           NaN   \n",
       "15321  Medicamento Sujeto A Prescripción Médica. Psic...           NaN   \n",
       "15495  Medicamento Sujeto A Prescripción Médica. Psic...           NaN   \n",
       "19396  Medicamento Sujeto A Prescripción Médica. Psic...           NaN   \n",
       "20131  Medicamento Sujeto A Prescripción Médica. Psic...           NaN   \n",
       "20748  Medicamento Sujeto A Prescripción Médica. Psic...           NaN   \n",
       "20749  Medicamento Sujeto A Prescripción Médica. Psic...           NaN   \n",
       "21472  Medicamento Sujeto A Prescripción Médica. Psic...           NaN   \n",
       "21786  Medicamento Sujeto A Prescripción Médica. Psic...           NaN   \n",
       "22468           Medicamento Sujeto A Prescripción Médica           NaN   \n",
       "22504           Medicamento Sujeto A Prescripción Médica           NaN   \n",
       "23748  Medicamento Sujeto A Prescripción Médica. Psic...           NaN   \n",
       "23874  Medicamento Sujeto A Prescripción Médica. Psic...           NaN   \n",
       "24055  Medicamento Sujeto A Prescripción Médica. Psic...           NaN   \n",
       "24056  Medicamento Sujeto A Prescripción Médica. Psic...           NaN   \n",
       "\n",
       "      ¿Afecta conducción? ¿Problemas de suministro?  \n",
       "2644                   SI                        NO  \n",
       "2676                   SI                        NO  \n",
       "2857                   SI                        NO  \n",
       "5438                   SI                        NO  \n",
       "5445                   SI                        NO  \n",
       "5451                   SI                        NO  \n",
       "13334                  SI                        NO  \n",
       "13338                  SI                        NO  \n",
       "13339                  SI                        NO  \n",
       "14555                  SI                        NO  \n",
       "14614                  SI                        NO  \n",
       "14644                  SI                        NO  \n",
       "15321                  SI                        NO  \n",
       "15495                  SI                        NO  \n",
       "19396                  SI                        NO  \n",
       "20131                  SI                        NO  \n",
       "20748                  SI                        NO  \n",
       "20749                  SI                        NO  \n",
       "21472                  SI                        NO  \n",
       "21786                  SI                        NO  \n",
       "22468                  SI                        NO  \n",
       "22504                  SI                        NO  \n",
       "23748                  SI                        NO  \n",
       "23874                  SI                        NO  \n",
       "24055                  SI                        NO  \n",
       "24056                  SI                        NO  "
      ]
     },
     "metadata": {},
     "output_type": "display_data"
    }
   ],
   "source": [
    "\n",
    "from IPython.display import display, Image\n",
    "\n",
    "lista_fotos = list()\n",
    "\n",
    "for i in range(len(detalles)):\n",
    "    \n",
    "    foto_url = 'https://cima.aemps.es/cima/fotos/full/materialas/{}/{}_materialas.jpg'.format(detalles[i], detalles[i])\n",
    "    lista_fotos.append(foto_url)\n",
    "   \n",
    "    display(Image(url=foto_url))\n",
    " \n",
    "display(filtered_dfactivos2)\n"
   ]
  },
  {
   "cell_type": "code",
   "execution_count": 12,
   "id": "6e7173aa",
   "metadata": {},
   "outputs": [
    {
     "data": {
      "text/plain": [
       "'https://cima.aemps.es/cima/fotos/full/materialas/80697/80697_materialas.jpg'"
      ]
     },
     "execution_count": 12,
     "metadata": {},
     "output_type": "execute_result"
    }
   ],
   "source": [
    "lista_fotos[0]"
   ]
  },
  {
   "cell_type": "markdown",
   "id": "99b8812d",
   "metadata": {},
   "source": [
    "## MOSTRAR EL PROSPECTO Y FICHA TÉCNICA DE LOS MEDICAMENTOS POR EL NÚMERO DE REGISTRO"
   ]
  },
  {
   "cell_type": "code",
   "execution_count": 13,
   "id": "ab32b19a",
   "metadata": {},
   "outputs": [
    {
     "data": {
      "text/html": [
       "<div>\n",
       "<style scoped>\n",
       "    .dataframe tbody tr th:only-of-type {\n",
       "        vertical-align: middle;\n",
       "    }\n",
       "\n",
       "    .dataframe tbody tr th {\n",
       "        vertical-align: top;\n",
       "    }\n",
       "\n",
       "    .dataframe thead th {\n",
       "        text-align: right;\n",
       "    }\n",
       "</style>\n",
       "<table border=\"1\" class=\"dataframe\">\n",
       "  <thead>\n",
       "    <tr style=\"text-align: right;\">\n",
       "      <th></th>\n",
       "      <th>Unnamed: 0</th>\n",
       "      <th>NUMERO DE REGISTRO</th>\n",
       "      <th>MEDICAMENTO</th>\n",
       "      <th>VIAS DE ADMINISTRACIÓN</th>\n",
       "      <th>FORMA FARMACÉUTICA</th>\n",
       "      <th>DOSIS</th>\n",
       "      <th>CON RECETA</th>\n",
       "      <th>PICTOGRAMA DE CONDUCCIÓN</th>\n",
       "      <th>TRIÁNGULO</th>\n",
       "      <th>HUÉRFANO</th>\n",
       "      <th>BIOSIMILAR</th>\n",
       "      <th>MED. NO SUSTITUIBLES</th>\n",
       "      <th>PSUM</th>\n",
       "      <th>NOTAS</th>\n",
       "      <th>MATERIALES INF</th>\n",
       "      <th>EMA</th>\n",
       "      <th>FICHA TÉCNICA</th>\n",
       "      <th>PROSPECTO</th>\n",
       "    </tr>\n",
       "  </thead>\n",
       "  <tbody>\n",
       "    <tr>\n",
       "      <th>0</th>\n",
       "      <td>0</td>\n",
       "      <td>88689</td>\n",
       "      <td>SOLIFENACINA/TAMSULOSINA ARISTO 6MG/0,4 MG COM...</td>\n",
       "      <td>VÍA ORAL</td>\n",
       "      <td>COMPRIMIDO DE LIBERACIÓN MODIFICADA</td>\n",
       "      <td>6 mg/0,4 mg</td>\n",
       "      <td>Si</td>\n",
       "      <td>Si</td>\n",
       "      <td>No</td>\n",
       "      <td>No</td>\n",
       "      <td>No</td>\n",
       "      <td>NaN</td>\n",
       "      <td>No</td>\n",
       "      <td>No</td>\n",
       "      <td>No</td>\n",
       "      <td>No</td>\n",
       "      <td>https://cima.aemps.es:443/cima/dochtml/ft/8868...</td>\n",
       "      <td>https://cima.aemps.es:443/cima/dochtml/p/88689...</td>\n",
       "    </tr>\n",
       "    <tr>\n",
       "      <th>1</th>\n",
       "      <td>1</td>\n",
       "      <td>88690</td>\n",
       "      <td>AZACITIDINA EUGIA 25 MG/ML POLVO PARA SUSPENSI...</td>\n",
       "      <td>VÍA SUBCUTÁNEA</td>\n",
       "      <td>POLVO PARA SUSPENSIÓN INYECTABLE</td>\n",
       "      <td>25 mg/ml</td>\n",
       "      <td>Si</td>\n",
       "      <td>Si</td>\n",
       "      <td>No</td>\n",
       "      <td>No</td>\n",
       "      <td>No</td>\n",
       "      <td>NaN</td>\n",
       "      <td>No</td>\n",
       "      <td>No</td>\n",
       "      <td>No</td>\n",
       "      <td>No</td>\n",
       "      <td>https://cima.aemps.es:443/cima/dochtml/ft/8869...</td>\n",
       "      <td>https://cima.aemps.es:443/cima/dochtml/p/88690...</td>\n",
       "    </tr>\n",
       "    <tr>\n",
       "      <th>2</th>\n",
       "      <td>2</td>\n",
       "      <td>1181323004</td>\n",
       "      <td>ILUMETRI 100 MG SOLUCION INYECTABLE EN PLUMA P...</td>\n",
       "      <td>VÍA SUBCUTÁNEA</td>\n",
       "      <td>SOLUCIÓN INYECTABLE EN PLUMA PRECARGADA</td>\n",
       "      <td>100 mg</td>\n",
       "      <td>Si</td>\n",
       "      <td>No</td>\n",
       "      <td>No</td>\n",
       "      <td>No</td>\n",
       "      <td>No</td>\n",
       "      <td>Biológicos</td>\n",
       "      <td>No</td>\n",
       "      <td>No</td>\n",
       "      <td>No</td>\n",
       "      <td>Si</td>\n",
       "      <td>https://cima.aemps.es:443/cima/pdfs/es/ft/1181...</td>\n",
       "      <td>https://cima.aemps.es:443/cima/pdfs/es/p/11813...</td>\n",
       "    </tr>\n",
       "    <tr>\n",
       "      <th>3</th>\n",
       "      <td>3</td>\n",
       "      <td>88683</td>\n",
       "      <td>SOLIFENACINA/TAMSULOSINA PENSA 6 MG/0,4 MG COM...</td>\n",
       "      <td>VÍA ORAL</td>\n",
       "      <td>COMPRIMIDO DE LIBERACIÓN MODIFICADA</td>\n",
       "      <td>6 mg/0,4 mg</td>\n",
       "      <td>Si</td>\n",
       "      <td>Si</td>\n",
       "      <td>No</td>\n",
       "      <td>No</td>\n",
       "      <td>No</td>\n",
       "      <td>NaN</td>\n",
       "      <td>No</td>\n",
       "      <td>No</td>\n",
       "      <td>No</td>\n",
       "      <td>No</td>\n",
       "      <td>https://cima.aemps.es:443/cima/dochtml/ft/8868...</td>\n",
       "      <td>https://cima.aemps.es:443/cima/dochtml/p/88683...</td>\n",
       "    </tr>\n",
       "    <tr>\n",
       "      <th>4</th>\n",
       "      <td>4</td>\n",
       "      <td>88682</td>\n",
       "      <td>BILAMAX FLAS 20 MG COMPRIMIDOS BUCODISPERSABLE...</td>\n",
       "      <td>VÍA ORAL</td>\n",
       "      <td>COMPRIMIDO BUCODISPERSABLE</td>\n",
       "      <td>20 mg</td>\n",
       "      <td>Si</td>\n",
       "      <td>No</td>\n",
       "      <td>No</td>\n",
       "      <td>No</td>\n",
       "      <td>No</td>\n",
       "      <td>NaN</td>\n",
       "      <td>No</td>\n",
       "      <td>No</td>\n",
       "      <td>No</td>\n",
       "      <td>No</td>\n",
       "      <td>https://cima.aemps.es:443/cima/dochtml/ft/8868...</td>\n",
       "      <td>https://cima.aemps.es:443/cima/dochtml/p/88682...</td>\n",
       "    </tr>\n",
       "    <tr>\n",
       "      <th>...</th>\n",
       "      <td>...</td>\n",
       "      <td>...</td>\n",
       "      <td>...</td>\n",
       "      <td>...</td>\n",
       "      <td>...</td>\n",
       "      <td>...</td>\n",
       "      <td>...</td>\n",
       "      <td>...</td>\n",
       "      <td>...</td>\n",
       "      <td>...</td>\n",
       "      <td>...</td>\n",
       "      <td>...</td>\n",
       "      <td>...</td>\n",
       "      <td>...</td>\n",
       "      <td>...</td>\n",
       "      <td>...</td>\n",
       "      <td>...</td>\n",
       "      <td>...</td>\n",
       "    </tr>\n",
       "    <tr>\n",
       "      <th>1386</th>\n",
       "      <td>1386</td>\n",
       "      <td>1221670002</td>\n",
       "      <td>SCEMBLIX 20 MG COMPRIMIDOS RECUBIERTOS CON PEL...</td>\n",
       "      <td>VÍA ORAL</td>\n",
       "      <td>COMPRIMIDO RECUBIERTO CON PELÍCULA</td>\n",
       "      <td>20 MG</td>\n",
       "      <td>Si</td>\n",
       "      <td>Si</td>\n",
       "      <td>Si</td>\n",
       "      <td>Si</td>\n",
       "      <td>No</td>\n",
       "      <td>NaN</td>\n",
       "      <td>No</td>\n",
       "      <td>No</td>\n",
       "      <td>No</td>\n",
       "      <td>Si</td>\n",
       "      <td>https://cima.aemps.es:443/cima/pdfs/es/ft/1221...</td>\n",
       "      <td>https://cima.aemps.es:443/cima/pdfs/es/p/12216...</td>\n",
       "    </tr>\n",
       "    <tr>\n",
       "      <th>1387</th>\n",
       "      <td>1387</td>\n",
       "      <td>1221670004</td>\n",
       "      <td>SCEMBLIX 40 MG COMPRIMIDOS RECUBIERTOS CON PEL...</td>\n",
       "      <td>VÍA ORAL</td>\n",
       "      <td>COMPRIMIDO RECUBIERTO CON PELÍCULA</td>\n",
       "      <td>40 MG</td>\n",
       "      <td>Si</td>\n",
       "      <td>Si</td>\n",
       "      <td>Si</td>\n",
       "      <td>Si</td>\n",
       "      <td>No</td>\n",
       "      <td>NaN</td>\n",
       "      <td>No</td>\n",
       "      <td>No</td>\n",
       "      <td>No</td>\n",
       "      <td>Si</td>\n",
       "      <td>https://cima.aemps.es:443/cima/pdfs/es/ft/1221...</td>\n",
       "      <td>https://cima.aemps.es:443/cima/pdfs/es/p/12216...</td>\n",
       "    </tr>\n",
       "    <tr>\n",
       "      <th>1388</th>\n",
       "      <td>1388</td>\n",
       "      <td>1221653001</td>\n",
       "      <td>UPSTAZA 2,8 × 10E11 GENOMAS VECTORIALES (VG)/0...</td>\n",
       "      <td>USO INTRAPUTAMINAL</td>\n",
       "      <td>SOLUCIÓN PARA PERFUSIÓN</td>\n",
       "      <td>2,8 x 10e11 vg/0,5 ml</td>\n",
       "      <td>Si</td>\n",
       "      <td>No</td>\n",
       "      <td>Si</td>\n",
       "      <td>Si</td>\n",
       "      <td>No</td>\n",
       "      <td>Biológicos</td>\n",
       "      <td>No</td>\n",
       "      <td>No</td>\n",
       "      <td>No</td>\n",
       "      <td>Si</td>\n",
       "      <td>https://cima.aemps.es:443/cima/pdfs/es/ft/1221...</td>\n",
       "      <td>https://cima.aemps.es:443/cima/pdfs/es/p/12216...</td>\n",
       "    </tr>\n",
       "    <tr>\n",
       "      <th>1389</th>\n",
       "      <td>1389</td>\n",
       "      <td>11717001IP</td>\n",
       "      <td>VYNDAQEL 20 MG CAPSULAS BLANDAS</td>\n",
       "      <td>VÍA ORAL</td>\n",
       "      <td>CÁPSULA BLANDA</td>\n",
       "      <td>12,2 mg tafamidis</td>\n",
       "      <td>Si</td>\n",
       "      <td>No</td>\n",
       "      <td>Si</td>\n",
       "      <td>Si</td>\n",
       "      <td>No</td>\n",
       "      <td>NaN</td>\n",
       "      <td>No</td>\n",
       "      <td>No</td>\n",
       "      <td>Si</td>\n",
       "      <td>Si</td>\n",
       "      <td>https://cima.aemps.es:443/cima/pdfs/es/ft/1171...</td>\n",
       "      <td>https://cima.aemps.es:443/cima/pdfs/es/p/11717...</td>\n",
       "    </tr>\n",
       "    <tr>\n",
       "      <th>1390</th>\n",
       "      <td>1390</td>\n",
       "      <td>1221674001</td>\n",
       "      <td>VYVGART 20 MG/ML CONCENTRADO PARA SOLUCIÓN PAR...</td>\n",
       "      <td>VÍA INTRAVENOSA</td>\n",
       "      <td>CONCENTRADO PARA SOLUCIÓN PARA PERFUSIÓN</td>\n",
       "      <td>20 mg/ml</td>\n",
       "      <td>Si</td>\n",
       "      <td>No</td>\n",
       "      <td>Si</td>\n",
       "      <td>Si</td>\n",
       "      <td>No</td>\n",
       "      <td>Biológicos</td>\n",
       "      <td>No</td>\n",
       "      <td>No</td>\n",
       "      <td>No</td>\n",
       "      <td>Si</td>\n",
       "      <td>https://cima.aemps.es:443/cima/pdfs/es/ft/1221...</td>\n",
       "      <td>https://cima.aemps.es:443/cima/pdfs/es/p/12216...</td>\n",
       "    </tr>\n",
       "  </tbody>\n",
       "</table>\n",
       "<p>1391 rows × 18 columns</p>\n",
       "</div>"
      ],
      "text/plain": [
       "      Unnamed: 0 NUMERO DE REGISTRO  \\\n",
       "0              0              88689   \n",
       "1              1              88690   \n",
       "2              2         1181323004   \n",
       "3              3              88683   \n",
       "4              4              88682   \n",
       "...          ...                ...   \n",
       "1386        1386         1221670002   \n",
       "1387        1387         1221670004   \n",
       "1388        1388         1221653001   \n",
       "1389        1389         11717001IP   \n",
       "1390        1390         1221674001   \n",
       "\n",
       "                                            MEDICAMENTO  \\\n",
       "0     SOLIFENACINA/TAMSULOSINA ARISTO 6MG/0,4 MG COM...   \n",
       "1     AZACITIDINA EUGIA 25 MG/ML POLVO PARA SUSPENSI...   \n",
       "2     ILUMETRI 100 MG SOLUCION INYECTABLE EN PLUMA P...   \n",
       "3     SOLIFENACINA/TAMSULOSINA PENSA 6 MG/0,4 MG COM...   \n",
       "4     BILAMAX FLAS 20 MG COMPRIMIDOS BUCODISPERSABLE...   \n",
       "...                                                 ...   \n",
       "1386  SCEMBLIX 20 MG COMPRIMIDOS RECUBIERTOS CON PEL...   \n",
       "1387  SCEMBLIX 40 MG COMPRIMIDOS RECUBIERTOS CON PEL...   \n",
       "1388  UPSTAZA 2,8 × 10E11 GENOMAS VECTORIALES (VG)/0...   \n",
       "1389                    VYNDAQEL 20 MG CAPSULAS BLANDAS   \n",
       "1390  VYVGART 20 MG/ML CONCENTRADO PARA SOLUCIÓN PAR...   \n",
       "\n",
       "     VIAS DE ADMINISTRACIÓN                        FORMA FARMACÉUTICA  \\\n",
       "0                  VÍA ORAL       COMPRIMIDO DE LIBERACIÓN MODIFICADA   \n",
       "1            VÍA SUBCUTÁNEA          POLVO PARA SUSPENSIÓN INYECTABLE   \n",
       "2            VÍA SUBCUTÁNEA   SOLUCIÓN INYECTABLE EN PLUMA PRECARGADA   \n",
       "3                  VÍA ORAL       COMPRIMIDO DE LIBERACIÓN MODIFICADA   \n",
       "4                  VÍA ORAL                COMPRIMIDO BUCODISPERSABLE   \n",
       "...                     ...                                       ...   \n",
       "1386               VÍA ORAL        COMPRIMIDO RECUBIERTO CON PELÍCULA   \n",
       "1387               VÍA ORAL        COMPRIMIDO RECUBIERTO CON PELÍCULA   \n",
       "1388     USO INTRAPUTAMINAL                   SOLUCIÓN PARA PERFUSIÓN   \n",
       "1389               VÍA ORAL                            CÁPSULA BLANDA   \n",
       "1390        VÍA INTRAVENOSA  CONCENTRADO PARA SOLUCIÓN PARA PERFUSIÓN   \n",
       "\n",
       "                      DOSIS CON RECETA PICTOGRAMA DE CONDUCCIÓN TRIÁNGULO  \\\n",
       "0               6 mg/0,4 mg         Si                       Si        No   \n",
       "1                  25 mg/ml         Si                       Si        No   \n",
       "2                    100 mg         Si                       No        No   \n",
       "3               6 mg/0,4 mg         Si                       Si        No   \n",
       "4                     20 mg         Si                       No        No   \n",
       "...                     ...        ...                      ...       ...   \n",
       "1386                  20 MG         Si                       Si        Si   \n",
       "1387                  40 MG         Si                       Si        Si   \n",
       "1388  2,8 x 10e11 vg/0,5 ml         Si                       No        Si   \n",
       "1389      12,2 mg tafamidis         Si                       No        Si   \n",
       "1390               20 mg/ml         Si                       No        Si   \n",
       "\n",
       "     HUÉRFANO BIOSIMILAR MED. NO SUSTITUIBLES PSUM NOTAS MATERIALES INF EMA  \\\n",
       "0          No         No                  NaN   No    No             No  No   \n",
       "1          No         No                  NaN   No    No             No  No   \n",
       "2          No         No           Biológicos   No    No             No  Si   \n",
       "3          No         No                  NaN   No    No             No  No   \n",
       "4          No         No                  NaN   No    No             No  No   \n",
       "...       ...        ...                  ...  ...   ...            ...  ..   \n",
       "1386       Si         No                  NaN   No    No             No  Si   \n",
       "1387       Si         No                  NaN   No    No             No  Si   \n",
       "1388       Si         No           Biológicos   No    No             No  Si   \n",
       "1389       Si         No                  NaN   No    No             Si  Si   \n",
       "1390       Si         No           Biológicos   No    No             No  Si   \n",
       "\n",
       "                                          FICHA TÉCNICA  \\\n",
       "0     https://cima.aemps.es:443/cima/dochtml/ft/8868...   \n",
       "1     https://cima.aemps.es:443/cima/dochtml/ft/8869...   \n",
       "2     https://cima.aemps.es:443/cima/pdfs/es/ft/1181...   \n",
       "3     https://cima.aemps.es:443/cima/dochtml/ft/8868...   \n",
       "4     https://cima.aemps.es:443/cima/dochtml/ft/8868...   \n",
       "...                                                 ...   \n",
       "1386  https://cima.aemps.es:443/cima/pdfs/es/ft/1221...   \n",
       "1387  https://cima.aemps.es:443/cima/pdfs/es/ft/1221...   \n",
       "1388  https://cima.aemps.es:443/cima/pdfs/es/ft/1221...   \n",
       "1389  https://cima.aemps.es:443/cima/pdfs/es/ft/1171...   \n",
       "1390  https://cima.aemps.es:443/cima/pdfs/es/ft/1221...   \n",
       "\n",
       "                                              PROSPECTO  \n",
       "0     https://cima.aemps.es:443/cima/dochtml/p/88689...  \n",
       "1     https://cima.aemps.es:443/cima/dochtml/p/88690...  \n",
       "2     https://cima.aemps.es:443/cima/pdfs/es/p/11813...  \n",
       "3     https://cima.aemps.es:443/cima/dochtml/p/88683...  \n",
       "4     https://cima.aemps.es:443/cima/dochtml/p/88682...  \n",
       "...                                                 ...  \n",
       "1386  https://cima.aemps.es:443/cima/pdfs/es/p/12216...  \n",
       "1387  https://cima.aemps.es:443/cima/pdfs/es/p/12216...  \n",
       "1388  https://cima.aemps.es:443/cima/pdfs/es/p/12216...  \n",
       "1389  https://cima.aemps.es:443/cima/pdfs/es/p/11717...  \n",
       "1390  https://cima.aemps.es:443/cima/pdfs/es/p/12216...  \n",
       "\n",
       "[1391 rows x 18 columns]"
      ]
     },
     "execution_count": 13,
     "metadata": {},
     "output_type": "execute_result"
    }
   ],
   "source": [
    "info = pd.read_excel(\"datos_ampliados_medicamentos.xlsx\")\n",
    "info"
   ]
  },
  {
   "cell_type": "code",
   "execution_count": 14,
   "id": "937f3f2d",
   "metadata": {},
   "outputs": [
    {
     "data": {
      "text/plain": [
       "0       https://cima.aemps.es:443/cima/dochtml/ft/8868...\n",
       "1       https://cima.aemps.es:443/cima/dochtml/ft/8869...\n",
       "2       https://cima.aemps.es:443/cima/pdfs/es/ft/1181...\n",
       "3       https://cima.aemps.es:443/cima/dochtml/ft/8868...\n",
       "4       https://cima.aemps.es:443/cima/dochtml/ft/8868...\n",
       "                              ...                        \n",
       "1386    https://cima.aemps.es:443/cima/pdfs/es/ft/1221...\n",
       "1387    https://cima.aemps.es:443/cima/pdfs/es/ft/1221...\n",
       "1388    https://cima.aemps.es:443/cima/pdfs/es/ft/1221...\n",
       "1389    https://cima.aemps.es:443/cima/pdfs/es/ft/1171...\n",
       "1390    https://cima.aemps.es:443/cima/pdfs/es/ft/1221...\n",
       "Name: FICHA TÉCNICA, Length: 1391, dtype: object"
      ]
     },
     "execution_count": 14,
     "metadata": {},
     "output_type": "execute_result"
    }
   ],
   "source": [
    "# buscando la forma de ver el prospecto\n",
    "\n",
    "info = pd.read_excel(\"datos_ampliados_medicamentos.xlsx\")\n",
    "info[\"PROSPECTO\"]\n",
    "info[\"FICHA TÉCNICA\"]"
   ]
  },
  {
   "cell_type": "code",
   "execution_count": null,
   "id": "9f89d940",
   "metadata": {},
   "outputs": [],
   "source": []
  },
  {
   "cell_type": "code",
   "execution_count": 15,
   "id": "6902c571",
   "metadata": {},
   "outputs": [
    {
     "data": {
      "text/plain": [
       "'80697'"
      ]
     },
     "execution_count": 15,
     "metadata": {},
     "output_type": "execute_result"
    }
   ],
   "source": [
    "indice = detalles[0]\n",
    "indice"
   ]
  },
  {
   "cell_type": "code",
   "execution_count": 16,
   "id": "071a2b2a",
   "metadata": {},
   "outputs": [
    {
     "data": {
      "text/plain": [
       "str"
      ]
     },
     "execution_count": 16,
     "metadata": {},
     "output_type": "execute_result"
    }
   ],
   "source": [
    "type(info[\"NUMERO DE REGISTRO\"].iloc[1389])"
   ]
  },
  {
   "cell_type": "code",
   "execution_count": 17,
   "id": "d23cb8f9",
   "metadata": {},
   "outputs": [
    {
     "data": {
      "text/plain": [
       "pandas.core.series.Series"
      ]
     },
     "execution_count": 17,
     "metadata": {},
     "output_type": "execute_result"
    }
   ],
   "source": [
    "type(info[\"NUMERO DE REGISTRO\"])"
   ]
  },
  {
   "cell_type": "code",
   "execution_count": 18,
   "id": "c4709214",
   "metadata": {},
   "outputs": [
    {
     "ename": "TypeError",
     "evalue": "Cannot index by location index with a non-integer key",
     "output_type": "error",
     "traceback": [
      "\u001b[1;31m---------------------------------------------------------------------------\u001b[0m",
      "\u001b[1;31mTypeError\u001b[0m                                 Traceback (most recent call last)",
      "\u001b[1;32m~\\AppData\\Local\\Temp\\ipykernel_21384\\3274290956.py\u001b[0m in \u001b[0;36m<module>\u001b[1;34m\u001b[0m\n\u001b[1;32m----> 1\u001b[1;33m \u001b[0minfo\u001b[0m\u001b[1;33m[\u001b[0m\u001b[1;34m\"NUMERO DE REGISTRO\"\u001b[0m\u001b[1;33m]\u001b[0m\u001b[1;33m.\u001b[0m\u001b[0miloc\u001b[0m\u001b[1;33m[\u001b[0m\u001b[0mindice\u001b[0m\u001b[1;33m]\u001b[0m\u001b[1;33m\u001b[0m\u001b[1;33m\u001b[0m\u001b[0m\n\u001b[0m",
      "\u001b[1;32m~\\anaconda3\\lib\\site-packages\\pandas\\core\\indexing.py\u001b[0m in \u001b[0;36m__getitem__\u001b[1;34m(self, key)\u001b[0m\n\u001b[0;32m    965\u001b[0m \u001b[1;33m\u001b[0m\u001b[0m\n\u001b[0;32m    966\u001b[0m             \u001b[0mmaybe_callable\u001b[0m \u001b[1;33m=\u001b[0m \u001b[0mcom\u001b[0m\u001b[1;33m.\u001b[0m\u001b[0mapply_if_callable\u001b[0m\u001b[1;33m(\u001b[0m\u001b[0mkey\u001b[0m\u001b[1;33m,\u001b[0m \u001b[0mself\u001b[0m\u001b[1;33m.\u001b[0m\u001b[0mobj\u001b[0m\u001b[1;33m)\u001b[0m\u001b[1;33m\u001b[0m\u001b[1;33m\u001b[0m\u001b[0m\n\u001b[1;32m--> 967\u001b[1;33m             \u001b[1;32mreturn\u001b[0m \u001b[0mself\u001b[0m\u001b[1;33m.\u001b[0m\u001b[0m_getitem_axis\u001b[0m\u001b[1;33m(\u001b[0m\u001b[0mmaybe_callable\u001b[0m\u001b[1;33m,\u001b[0m \u001b[0maxis\u001b[0m\u001b[1;33m=\u001b[0m\u001b[0maxis\u001b[0m\u001b[1;33m)\u001b[0m\u001b[1;33m\u001b[0m\u001b[1;33m\u001b[0m\u001b[0m\n\u001b[0m\u001b[0;32m    968\u001b[0m \u001b[1;33m\u001b[0m\u001b[0m\n\u001b[0;32m    969\u001b[0m     \u001b[1;32mdef\u001b[0m \u001b[0m_is_scalar_access\u001b[0m\u001b[1;33m(\u001b[0m\u001b[0mself\u001b[0m\u001b[1;33m,\u001b[0m \u001b[0mkey\u001b[0m\u001b[1;33m:\u001b[0m \u001b[0mtuple\u001b[0m\u001b[1;33m)\u001b[0m\u001b[1;33m:\u001b[0m\u001b[1;33m\u001b[0m\u001b[1;33m\u001b[0m\u001b[0m\n",
      "\u001b[1;32m~\\anaconda3\\lib\\site-packages\\pandas\\core\\indexing.py\u001b[0m in \u001b[0;36m_getitem_axis\u001b[1;34m(self, key, axis)\u001b[0m\n\u001b[0;32m   1518\u001b[0m             \u001b[0mkey\u001b[0m \u001b[1;33m=\u001b[0m \u001b[0mitem_from_zerodim\u001b[0m\u001b[1;33m(\u001b[0m\u001b[0mkey\u001b[0m\u001b[1;33m)\u001b[0m\u001b[1;33m\u001b[0m\u001b[1;33m\u001b[0m\u001b[0m\n\u001b[0;32m   1519\u001b[0m             \u001b[1;32mif\u001b[0m \u001b[1;32mnot\u001b[0m \u001b[0mis_integer\u001b[0m\u001b[1;33m(\u001b[0m\u001b[0mkey\u001b[0m\u001b[1;33m)\u001b[0m\u001b[1;33m:\u001b[0m\u001b[1;33m\u001b[0m\u001b[1;33m\u001b[0m\u001b[0m\n\u001b[1;32m-> 1520\u001b[1;33m                 \u001b[1;32mraise\u001b[0m \u001b[0mTypeError\u001b[0m\u001b[1;33m(\u001b[0m\u001b[1;34m\"Cannot index by location index with a non-integer key\"\u001b[0m\u001b[1;33m)\u001b[0m\u001b[1;33m\u001b[0m\u001b[1;33m\u001b[0m\u001b[0m\n\u001b[0m\u001b[0;32m   1521\u001b[0m \u001b[1;33m\u001b[0m\u001b[0m\n\u001b[0;32m   1522\u001b[0m             \u001b[1;31m# validate the location\u001b[0m\u001b[1;33m\u001b[0m\u001b[1;33m\u001b[0m\u001b[0m\n",
      "\u001b[1;31mTypeError\u001b[0m: Cannot index by location index with a non-integer key"
     ]
    }
   ],
   "source": [
    "info[\"NUMERO DE REGISTRO\"].iloc[indice]\n"
   ]
  },
  {
   "cell_type": "code",
   "execution_count": null,
   "id": "12280def",
   "metadata": {},
   "outputs": [],
   "source": []
  },
  {
   "cell_type": "code",
   "execution_count": null,
   "id": "f9df0bb2",
   "metadata": {},
   "outputs": [],
   "source": []
  },
  {
   "cell_type": "code",
   "execution_count": null,
   "id": "68ca4700",
   "metadata": {},
   "outputs": [],
   "source": []
  }
 ],
 "metadata": {
  "kernelspec": {
   "display_name": "Python 3 (ipykernel)",
   "language": "python",
   "name": "python3"
  },
  "language_info": {
   "codemirror_mode": {
    "name": "ipython",
    "version": 3
   },
   "file_extension": ".py",
   "mimetype": "text/x-python",
   "name": "python",
   "nbconvert_exporter": "python",
   "pygments_lexer": "ipython3",
   "version": "3.9.13"
  }
 },
 "nbformat": 4,
 "nbformat_minor": 5
}
